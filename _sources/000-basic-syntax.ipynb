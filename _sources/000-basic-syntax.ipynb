{
 "cells": [
  {
   "cell_type": "markdown",
   "id": "f957afaf-6372-4217-8379-d5a17080c016",
   "metadata": {},
   "source": [
    "# Basic Syntax, Variables and Data Types"
   ]
  },
  {
   "cell_type": "markdown",
   "id": "8952ca3a-6424-4b72-943d-93c26cead6aa",
   "metadata": {},
   "source": [
    "Python can do basic math straightaway, either at the python interpreter prompt:\n",
    "\n",
    "```\n",
    "macbookpro> python\n",
    "Python 3.13.3 | packaged by conda-forge | (main, Apr 14 2025, 20:46:04) [Clang 18.1.8 ] on darwin\n",
    "Type \"help\", \"copyright\", \"credits\" or \"license\" for more information.\n",
    ">>> 3+3\n",
    "6\n",
    ">>>\n",
    "```\n",
    "\n",
    "or in a Jupyter notebook cell:"
   ]
  },
  {
   "cell_type": "code",
   "execution_count": 24,
   "id": "c7fecc0b-89a5-4768-9cb0-661712c61fde",
   "metadata": {},
   "outputs": [
    {
     "data": {
      "text/plain": [
       "6"
      ]
     },
     "execution_count": 24,
     "metadata": {},
     "output_type": "execute_result"
    }
   ],
   "source": [
    "3+3"
   ]
  },
  {
   "cell_type": "markdown",
   "id": "c61fb4c2-6dd5-4917-9b4b-b756f49eb180",
   "metadata": {},
   "source": [
    "However the value of writing computer **programs** is that they are more than simple calculators\n",
    "performing operations on specific data types. They can generalize beyond specific numbers and \n",
    "represent more complex algorithms and operations on data."
   ]
  },
  {
   "cell_type": "markdown",
   "id": "f76d69e1-e036-4697-9530-bb7906357830",
   "metadata": {},
   "source": [
    "## Representing data in programs\n",
    "\n",
    "So how do we generalize over data? From mathematics we talk about different sets of numbers that we might \n",
    "want to represent in programs:\n",
    "\n",
    "  * integers (positive, negative and zero)\n",
    "  * real numbers (including both rational and irrational numbers)\n",
    "\n",
    "We also talk about other kinds of things we might want to represent:\n",
    "  * text - i.e. \"HSF India\" or your name\n",
    "  * boolean values {True, False}\n",
    "\n",
    "We usually want to represent these things within our programs, but often we don't\n",
    "know the actual value, or it may change during the program. Thus in the program \n",
    "we give values we want to represent **names**, and because they may change during\n",
    "the execution of the program we refer to them as \"variable names\". "
   ]
  },
  {
   "cell_type": "markdown",
   "id": "183f73ff-603f-4ed2-978a-cf6f94b6f4ee",
   "metadata": {},
   "source": [
    "## Variable types - \"dynamic typing\"\n",
    "In other programming languages, e.g. C++ (C, FORTRAN, ...) one has to declare the variable types (tell\n",
    "the compiler what kind of thing each variable is) before you actually run the program. This is\n",
    "called **static typing** as it is set and fixed in the program:\n",
    "\n",
    "**C++**\n",
    "```\n",
    "#include <iostream>\n",
    "\n",
    "int main() {\n",
    "    int myInt = 42;\n",
    "    float myFloat = 3.14;\n",
    "\n",
    "    std::cout << \"Integer: \" << myInt << std::endl;\n",
    "    std::cout << \"Float: \" << myFloat << std::endl;\n",
    "\n",
    "    return 0;\n",
    "}\n",
    "```\n",
    "\n",
    "**PYTHON**\n",
    "\n",
    "In Python it is not required to tell the interpreter the type for a given variable. It is inferred from\n",
    "the data the first time a variable is set. Variables in Python are said to be **dynamically typed** and that type can change as the program evolves."
   ]
  },
  {
   "cell_type": "code",
   "execution_count": 25,
   "id": "33f60da5-6963-45c9-8a69-9bc09781e547",
   "metadata": {},
   "outputs": [
    {
     "name": "stdout",
     "output_type": "stream",
     "text": [
      "3\n",
      "HSF India\n"
     ]
    }
   ],
   "source": [
    "x = 3     # Python will recognize that 3 is an integer\n",
    "print(x)\n",
    "x = 'HSF India'  # Python will recognize that x now represents a string\n",
    "print(x)"
   ]
  },
  {
   "cell_type": "markdown",
   "id": "886cd13d-a5fc-4100-867d-8dc563bcc40f",
   "metadata": {},
   "source": [
    "You can use the type(varname) function to check the type of a variable."
   ]
  },
  {
   "cell_type": "code",
   "execution_count": 26,
   "id": "d7d1d97e-581c-467f-9115-7e91788b9608",
   "metadata": {},
   "outputs": [
    {
     "name": "stdout",
     "output_type": "stream",
     "text": [
      "3\n",
      "<class 'int'>\n",
      "3.14\n",
      "<class 'float'>\n",
      "HSF India\n",
      "<class 'str'>\n",
      "True\n",
      "<class 'bool'>\n"
     ]
    }
   ],
   "source": [
    "x = 3     # Python will recognize that 3 is an integer\n",
    "print(x)\n",
    "print(type(x))\n",
    "\n",
    "x = 3.14\n",
    "print(x)\n",
    "print(type(x))\n",
    "\n",
    "x = 'HSF India'\n",
    "print(x)\n",
    "print(type(x))\n",
    "\n",
    "x = True   # Alternative is False (note capitalization)\n",
    "print(x)\n",
    "print(type(x))"
   ]
  },
  {
   "cell_type": "markdown",
   "id": "7c91900c-0de7-4892-b315-f229c830ab7b",
   "metadata": {},
   "source": [
    "## Integers and Floats"
   ]
  },
  {
   "cell_type": "code",
   "execution_count": 27,
   "id": "5784cc1e-9403-438a-a92c-3e9fd02790e6",
   "metadata": {},
   "outputs": [
    {
     "name": "stdout",
     "output_type": "stream",
     "text": [
      "42\n",
      "<class 'int'>\n"
     ]
    }
   ],
   "source": [
    "i = 42\n",
    "print(i)\n",
    "print(type(i))"
   ]
  },
  {
   "cell_type": "code",
   "execution_count": 28,
   "id": "81a7f656-2c19-42ba-bd59-455a5d118ff2",
   "metadata": {},
   "outputs": [
    {
     "name": "stdout",
     "output_type": "stream",
     "text": [
      "3.14\n",
      "<class 'float'>\n"
     ]
    }
   ],
   "source": [
    "x = 3.14\n",
    "print(x)\n",
    "print(type(x))"
   ]
  },
  {
   "cell_type": "markdown",
   "id": "f6920328-0f81-435d-a299-0658c6ab08e5",
   "metadata": {},
   "source": [
    "And as planned, one can do math with numeric data types, including setting other variables:"
   ]
  },
  {
   "cell_type": "code",
   "execution_count": 29,
   "id": "62b71ea4-7b4d-4d51-a248-da115ec746bb",
   "metadata": {},
   "outputs": [
    {
     "name": "stdout",
     "output_type": "stream",
     "text": [
      "52\n",
      "54\n",
      "54\n"
     ]
    }
   ],
   "source": [
    "print(i+10)\n",
    "j = 12\n",
    "print(i+j)\n",
    "k = i + j\n",
    "print(k)"
   ]
  },
  {
   "cell_type": "code",
   "execution_count": 30,
   "id": "475c585f-940f-4bfc-85df-cc458ced4ab7",
   "metadata": {},
   "outputs": [
    {
     "name": "stdout",
     "output_type": "stream",
     "text": [
      "16.8596\n"
     ]
    }
   ],
   "source": [
    "y = x**2 + 7\n",
    "print(y)"
   ]
  },
  {
   "cell_type": "markdown",
   "id": "c8ca31a5-9f17-4ba5-8015-b61eea7259c8",
   "metadata": {},
   "source": [
    "In addition to operations like addition (+), subtraction (-), multiplication (*) and division (/), we also can do things like get the \"quotient\" and \"remainder\" when doing integer division via the \"floor division\" operator (//) and \"mod(ulus)\" operator (%):"
   ]
  },
  {
   "cell_type": "code",
   "execution_count": 31,
   "id": "493b2ad7-2183-491d-a575-f76de47f48e1",
   "metadata": {},
   "outputs": [
    {
     "name": "stdout",
     "output_type": "stream",
     "text": [
      "Integer division of 7 by 2 = 2 * 3 + 1\n",
      "3\n",
      "1\n",
      "Integer division of 7 by 4 = 1 * 4 + 1\n",
      "1\n",
      "3\n"
     ]
    }
   ],
   "source": [
    "print('Integer division of 7 by 2 = 2 * 3 + 1')\n",
    "print(7//2)\n",
    "print(7%2)\n",
    "\n",
    "print('Integer division of 7 by 4 = 1 * 4 + 1')\n",
    "print(7//4)\n",
    "print(7%4)"
   ]
  },
  {
   "cell_type": "markdown",
   "id": "476d926a-d8f2-4b8f-aab1-a1359b534587",
   "metadata": {},
   "source": [
    "## Booleans and Boolean Operations\n",
    "\n",
    "Often in a program we will need to represent whether something is **True** or **False**. Note that Python expects those to be capitalized.\n",
    "\n",
    "In addition boolean operations in Python familiar from math exist, such as **and**, **or** and **not**:"
   ]
  },
  {
   "cell_type": "code",
   "execution_count": 32,
   "id": "6c054e03-ac04-41b8-8bec-dd967edaed94",
   "metadata": {},
   "outputs": [
    {
     "name": "stdout",
     "output_type": "stream",
     "text": [
      "False\n"
     ]
    }
   ],
   "source": [
    "a = False\n",
    "print(a)"
   ]
  },
  {
   "cell_type": "code",
   "execution_count": 33,
   "id": "028fd727-e520-4280-8282-98b1b92a4d00",
   "metadata": {},
   "outputs": [
    {
     "name": "stdout",
     "output_type": "stream",
     "text": [
      "True\n"
     ]
    }
   ],
   "source": [
    "b = True\n",
    "print(b)"
   ]
  },
  {
   "cell_type": "code",
   "execution_count": 34,
   "id": "7d7d3361-5f84-462f-b499-c7ac0c5a94ec",
   "metadata": {},
   "outputs": [
    {
     "name": "stdout",
     "output_type": "stream",
     "text": [
      "True\n",
      "False\n",
      "False\n",
      "True\n",
      "False\n"
     ]
    }
   ],
   "source": [
    "print(not a)\n",
    "print(not b)\n",
    "print(a and b)\n",
    "print(a or b)\n",
    "c = True\n",
    "print(a and c)"
   ]
  },
  {
   "cell_type": "markdown",
   "id": "5b62c783-cbe4-4861-807e-708ed3c8ba5e",
   "metadata": {},
   "source": [
    "## Strings\n",
    "\n",
    "Text is represented by string variables. The actual text must be included in between quotes."
   ]
  },
  {
   "cell_type": "code",
   "execution_count": 35,
   "id": "bf5dd0df-b502-44c5-847e-65090c327f76",
   "metadata": {},
   "outputs": [
    {
     "name": "stdout",
     "output_type": "stream",
     "text": [
      "Hello World!\n",
      "<class 'str'>\n"
     ]
    }
   ],
   "source": [
    "s = 'Hello World!'\n",
    "print(s)\n",
    "print(type(s))"
   ]
  },
  {
   "cell_type": "markdown",
   "id": "dba526e2-ea7d-417c-bc66-2d5857ca6082",
   "metadata": {},
   "source": [
    "Note that both single and double quotes can be used, as long as you are consistent for a given string."
   ]
  },
  {
   "cell_type": "code",
   "execution_count": 36,
   "id": "44e0e38a-fb43-425f-ac4d-f4e7a0ecad70",
   "metadata": {},
   "outputs": [
    {
     "name": "stdout",
     "output_type": "stream",
     "text": [
      "Goodbye Cruel World!\n"
     ]
    }
   ],
   "source": [
    "s2 = \"Goodbye Cruel World!\"\n",
    "print(s2)"
   ]
  },
  {
   "cell_type": "markdown",
   "id": "d6912bf7-9ad9-45d3-a56e-c996666b93bd",
   "metadata": {},
   "source": [
    "And multi-line strings are possible when demarcated with triple-quotes, e.g."
   ]
  },
  {
   "cell_type": "code",
   "execution_count": 37,
   "id": "48e9e262-bcf5-4640-8e34-0c1ffa724ad5",
   "metadata": {},
   "outputs": [
    {
     "name": "stdout",
     "output_type": "stream",
     "text": [
      "Hello\n",
      "World!\n",
      "\n"
     ]
    }
   ],
   "source": [
    "s3 = '''Hello\n",
    "World!\n",
    "'''\n",
    "print(s3)"
   ]
  },
  {
   "cell_type": "markdown",
   "id": "22f810d6-1e02-4663-a25c-c2304249c792",
   "metadata": {},
   "source": [
    "A number of functions are available for strings, for example:"
   ]
  },
  {
   "cell_type": "code",
   "execution_count": 1,
   "id": "fac784c4-e183-4a7d-bc52-c46726d915f8",
   "metadata": {},
   "outputs": [
    {
     "name": "stdout",
     "output_type": "stream",
     "text": [
      "hello world!\n",
      "HELLO WORLD!\n",
      "hELLO wORLD!\n",
      "Hello world!\n",
      "  Hello! \n",
      "Hello!\n",
      "##Hello!#\n",
      "##He--o!#\n",
      "['Hello', 'World!']\n",
      "['alpha', 'beta', 'gamma']\n",
      "alpha-beta-gamma\n"
     ]
    }
   ],
   "source": [
    "s4 = 'Hello World!'\n",
    "print(s4.lower())\n",
    "print(s4.upper())\n",
    "print(s4.swapcase())\n",
    "print(s4.lower().capitalize())\n",
    "\n",
    "# strip() removes leading and trailing whitespace \n",
    "# [lstrip() will remove only leading whitespace, rstrip() will remove only training whitespace]\n",
    "s5 = '  Hello! '\n",
    "print(s5)\n",
    "s6 = s5.strip()\n",
    "print(s6)\n",
    "\n",
    "# We can also replace substrings\n",
    "s7 = s5.replace(' ','#')\n",
    "print(s7)\n",
    "\n",
    "s8 = s7.replace('ll','--')\n",
    "print(s8)\n",
    "\n",
    "# We can split a string (default delimiter is space, but can be changed)\n",
    "s9 = s4.split()\n",
    "print(s9)\n",
    "\n",
    "s10 = 'alpha|beta|gamma'\n",
    "s11 = s10.split('|')\n",
    "print(s11)\n",
    "\n",
    "# And we can join lists of strings back together, using a specified delimiter (here '-')\n",
    "s12 = '-'.join(s11)\n",
    "print(s12)"
   ]
  },
  {
   "cell_type": "markdown",
   "id": "733f705d-6954-49b7-9438-3c003a9020c9",
   "metadata": {},
   "source": [
    "And there are a number of functions to examine the nature of strings:"
   ]
  },
  {
   "cell_type": "code",
   "execution_count": 39,
   "id": "a081c1e9-5435-4b11-8f86-7a1d2c2ee366",
   "metadata": {},
   "outputs": [
    {
     "name": "stdout",
     "output_type": "stream",
     "text": [
      "False False True False False False\n",
      "True False False False False False\n",
      "True True True False False False\n",
      "False False False True False False\n",
      "True True True True True False\n",
      "False\n"
     ]
    }
   ],
   "source": [
    "ss1 = 'ABC'\n",
    "ss2 = 'Abc'\n",
    "ss3 = 'abc'\n",
    "ss4 = '123'\n",
    "ss5 = 'Abc123'\n",
    "ss6 = 'Abc-123'\n",
    "\n",
    "print(ss1.islower(), ss2.islower(), ss3.islower(), ss4.islower(), ss5.islower(), ss6.islower())\n",
    "print(ss1.isupper(), ss2.isupper(), ss3.isupper(), ss4.isupper(), ss5.isupper(), ss6.isupper())\n",
    "print(ss1.isalpha(), ss2.isalpha(), ss3.isalpha(), ss4.isalpha(), ss5.isalpha(), ss6.isalpha())\n",
    "print(ss1.isnumeric(), ss2.isnumeric(), ss3.isnumeric(), ss4.isnumeric(), ss5.isnumeric(), ss6.isnumeric())\n",
    "print(ss1.isalnum(), ss2.isalnum(), ss3.isalnum(), ss4.isalnum(), ss5.isalnum(), ss6.isalnum())\n",
    "\n",
    "# But be careful, numeric means in [0123456789]\n",
    "ss7 = '12.3'\n",
    "print(ss7.isnumeric())"
   ]
  },
  {
   "cell_type": "markdown",
   "id": "27866738-d8c6-444d-919c-13f6296857a0",
   "metadata": {},
   "source": [
    "It is also possible to perform other types of operations with strings:"
   ]
  },
  {
   "cell_type": "code",
   "execution_count": 40,
   "id": "6fe57db4-d454-4d8a-84b1-c3632ffa5908",
   "metadata": {},
   "outputs": [
    {
     "name": "stdout",
     "output_type": "stream",
     "text": [
      "Hello World!\n"
     ]
    }
   ],
   "source": [
    "x = 'Hello'\n",
    "y = 'World!'\n",
    "z = x + ' ' + y\n",
    "print(z)"
   ]
  },
  {
   "cell_type": "markdown",
   "id": "a8d27e00-c176-4061-89bf-1a2f28b88da3",
   "metadata": {},
   "source": [
    "However there are better ways to do this, especially as the resulting string (or printout) gets more complicated. (See f-strings below.)"
   ]
  },
  {
   "cell_type": "markdown",
   "id": "acdd527c-9782-46b0-92bd-a6021b8c9b90",
   "metadata": {},
   "source": [
    "## Lists\n",
    "\n",
    "Lists are one of the most and flexible data types in basic Python. They are ordered and mutable and duplicates are allowed. The elements of a list do not need to be all of the same data type. One can append items to a list, and remove items from the list."
   ]
  },
  {
   "cell_type": "code",
   "execution_count": 41,
   "id": "0c5407f1-01bc-4f7e-adb4-31fd490be4cf",
   "metadata": {},
   "outputs": [
    {
     "name": "stdout",
     "output_type": "stream",
     "text": [
      "['Paris', 42, 'Mumbai', 'Paris']\n"
     ]
    }
   ],
   "source": [
    "l1 = ['Paris', 42, 'Mumbai', 'Paris']\n",
    "print(l1)"
   ]
  },
  {
   "cell_type": "code",
   "execution_count": 42,
   "id": "dbce1aaa-75c2-4cd2-94af-4b0c7ae17458",
   "metadata": {},
   "outputs": [
    {
     "name": "stdout",
     "output_type": "stream",
     "text": [
      "['Paris', 42, 'Mumbai', 'Paris', 3.14]\n"
     ]
    }
   ],
   "source": [
    "l1.append(3.14)\n",
    "print(l1)"
   ]
  },
  {
   "cell_type": "code",
   "execution_count": 43,
   "id": "e27fb21b-3416-4380-a458-ae6506cfe694",
   "metadata": {},
   "outputs": [
    {
     "name": "stdout",
     "output_type": "stream",
     "text": [
      "[42, 'Mumbai', 'Paris', 3.14]\n"
     ]
    }
   ],
   "source": [
    "l1.remove('Paris')   # removes the first match\n",
    "print(l1)"
   ]
  },
  {
   "cell_type": "markdown",
   "id": "e9c66db8-0fcc-412c-bb1f-02dde4add71f",
   "metadata": {},
   "source": [
    "The (ordered) elements of a list can be accessed by indices. They are numbered starting with 0. It is possible to change the individual elements (including their type)."
   ]
  },
  {
   "cell_type": "code",
   "execution_count": 44,
   "id": "aa27ea9e-49dd-4a0b-9486-25a1aa59bdf5",
   "metadata": {},
   "outputs": [
    {
     "name": "stdout",
     "output_type": "stream",
     "text": [
      "42\n",
      "Paris\n",
      "[42, 'Mumbai', 'Lyon', 'London']\n"
     ]
    }
   ],
   "source": [
    "print(l1[0])\n",
    "print(l1[2])\n",
    "l1[2] = 'Lyon'    # changes 'Paris' to 'Lyon'\n",
    "l1[3] = 'London'  # changes 3.14 to 'London'\n",
    "print(l1)"
   ]
  },
  {
   "cell_type": "markdown",
   "id": "49998f92-c747-430e-bedd-32d028e36e61",
   "metadata": {},
   "source": [
    "## Tuples\n",
    "\n",
    "Tuples are ordered like a list, but are immutable. The elements are not required to be of the same type and, like lists, can also be accessed via indices."
   ]
  },
  {
   "cell_type": "code",
   "execution_count": 45,
   "id": "18b9bab4-e33f-4b32-a027-a38adb24d352",
   "metadata": {},
   "outputs": [
    {
     "name": "stdout",
     "output_type": "stream",
     "text": [
      "(1, 2, 3.14, 'Foo')\n",
      "3.14\n"
     ]
    }
   ],
   "source": [
    "t1 = (1,2,3.14,'Foo')\n",
    "print(t1)\n",
    "print(t1[2])"
   ]
  },
  {
   "cell_type": "markdown",
   "id": "bacbed42-63b4-4ccf-932b-78dde56ac524",
   "metadata": {},
   "source": [
    "Because they are immutable one cannot change them:"
   ]
  },
  {
   "cell_type": "code",
   "execution_count": 47,
   "id": "c926242b-09bd-4b37-ac33-47fe8b0c1ee5",
   "metadata": {
    "editable": true,
    "jupyterbook": {
     "execute": {
      "allow_errors": true
     }
    },
    "slideshow": {
     "slide_type": ""
    },
    "tags": []
   },
   "outputs": [
    {
     "ename": "TypeError",
     "evalue": "'tuple' object does not support item assignment",
     "output_type": "error",
     "traceback": [
      "\u001b[31m---------------------------------------------------------------------------\u001b[39m",
      "\u001b[31mTypeError\u001b[39m                                 Traceback (most recent call last)",
      "\u001b[36mCell\u001b[39m\u001b[36m \u001b[39m\u001b[32mIn[47]\u001b[39m\u001b[32m, line 1\u001b[39m\n\u001b[32m----> \u001b[39m\u001b[32m1\u001b[39m \u001b[43mt1\u001b[49m\u001b[43m[\u001b[49m\u001b[32;43m2\u001b[39;49m\u001b[43m]\u001b[49m = \u001b[32m7\u001b[39m\n",
      "\u001b[31mTypeError\u001b[39m: 'tuple' object does not support item assignment"
     ]
    }
   ],
   "source": [
    "t1[2] = 7"
   ]
  },
  {
   "cell_type": "markdown",
   "id": "0d1573ae-8d83-41fc-9378-7e7940d41941",
   "metadata": {
    "editable": true,
    "slideshow": {
     "slide_type": ""
    },
    "tags": []
   },
   "source": [
    "## Lists vs Tuples\n",
    "\n",
    "So when to use a list, a tuple a dict or a set?\n",
    "\n",
    "Lists are more dynamic and useful when the elements (and their number) may change. For example, a list could represent the list of orders for a cook in a restaurant kitchen.\n",
    "\n",
    "Tuples are useful when fixing the elements and their number makes sense in the program context. For example, RGB colors are often represented as 3 integer numbers between 0 and 255, e.g. rgb = (255, 128, 0) is a shade of orange."
   ]
  },
  {
   "cell_type": "markdown",
   "id": "ab90f581-55bb-47cc-9b7a-7a409cbbbf2f",
   "metadata": {
    "editable": true,
    "slideshow": {
     "slide_type": ""
    },
    "tags": []
   },
   "source": [
    "## Dictionaries\n",
    "\n",
    "A dictionary (\"dict\") is a a set of key-value pairs. It is unordered and is mutable. One accesses a dictionary using the \"key\" to obtain the associated \"value\". Keys are unique."
   ]
  },
  {
   "cell_type": "code",
   "execution_count": 48,
   "id": "3f5b1cc1-ef91-47eb-a162-0b5981b6dc55",
   "metadata": {
    "editable": true,
    "slideshow": {
     "slide_type": ""
    },
    "tags": []
   },
   "outputs": [
    {
     "name": "stdout",
     "output_type": "stream",
     "text": [
      "{'India': 'New Delhi', 'France': 'Paris', 'Finland': 'Helsinki'}\n",
      "New Delhi\n"
     ]
    }
   ],
   "source": [
    "# Initialize a dictionary with some values when the dict is created\n",
    "capitals1 = {'India': 'New Delhi', 'France': 'Paris', 'Finland': 'Helsinki'}\n",
    "print(capitals1)\n",
    "print(capitals1['India'])"
   ]
  },
  {
   "cell_type": "code",
   "execution_count": 49,
   "id": "f59d7790-93af-486d-91ff-0d19814ad6a6",
   "metadata": {
    "editable": true,
    "slideshow": {
     "slide_type": ""
    },
    "tags": []
   },
   "outputs": [
    {
     "name": "stdout",
     "output_type": "stream",
     "text": [
      "{'India': 'New Delhi', 'France': 'Paris', 'Finland': 'Helsinki', 'Thailand': 'Bangkok'}\n"
     ]
    }
   ],
   "source": [
    "# We can add new elements to an existing dictionary\n",
    "capitals1['Thailand']='Bangkok'\n",
    "print(capitals1)"
   ]
  },
  {
   "cell_type": "markdown",
   "id": "e84968c2-bfe1-4594-a30d-26a82082f28b",
   "metadata": {
    "editable": true,
    "slideshow": {
     "slide_type": ""
    },
    "tags": []
   },
   "source": [
    "We can also remove elements (two different methods):"
   ]
  },
  {
   "cell_type": "code",
   "execution_count": 50,
   "id": "9dfb7d5d-d5aa-47d2-b994-f7276dc681ca",
   "metadata": {
    "editable": true,
    "slideshow": {
     "slide_type": ""
    },
    "tags": []
   },
   "outputs": [
    {
     "name": "stdout",
     "output_type": "stream",
     "text": [
      "{'India': 'New Delhi', 'Finland': 'Helsinki', 'Thailand': 'Bangkok'}\n",
      "{'India': 'New Delhi', 'Thailand': 'Bangkok'}\n"
     ]
    }
   ],
   "source": [
    "del capitals1['France']\n",
    "print(capitals1)\n",
    "capitals1.pop('Finland')\n",
    "print(capitals1)"
   ]
  },
  {
   "cell_type": "code",
   "execution_count": 51,
   "id": "b8d268eb-9223-42f1-a6e0-e653d72d7b46",
   "metadata": {
    "editable": true,
    "slideshow": {
     "slide_type": ""
    },
    "tags": []
   },
   "outputs": [
    {
     "name": "stdout",
     "output_type": "stream",
     "text": [
      "{'India': 'New Delhi'}\n",
      "{'India': 'New Delhi', 'France': 'Paris'}\n"
     ]
    }
   ],
   "source": [
    "# Create an empty dictionary and add elements\n",
    "capitals2 = {}\n",
    "capitals2['India'] = 'New Delhi'\n",
    "print(capitals2)\n",
    "capitals2['France'] = 'Paris'\n",
    "print(capitals2)"
   ]
  },
  {
   "cell_type": "markdown",
   "id": "2d6efea0-7265-4d5f-8b08-f63968cbcb45",
   "metadata": {
    "editable": true,
    "slideshow": {
     "slide_type": ""
    },
    "tags": []
   },
   "source": [
    "Note that both the keys and the values can be different types, even within the same dictionary:"
   ]
  },
  {
   "cell_type": "code",
   "execution_count": 52,
   "id": "92700545-1622-4cfa-ac5c-ca41be46f0e2",
   "metadata": {
    "editable": true,
    "slideshow": {
     "slide_type": ""
    },
    "tags": []
   },
   "outputs": [
    {
     "name": "stdout",
     "output_type": "stream",
     "text": [
      "{42: 'Foo', 'Bar': 3.14}\n"
     ]
    }
   ],
   "source": [
    "d3 = {}\n",
    "d3[42] = 'Foo'\n",
    "d3['Bar'] = 3.14\n",
    "print(d3)"
   ]
  },
  {
   "cell_type": "markdown",
   "id": "3a300b2b-e0c5-4e23-b18d-cfd361a57cc0",
   "metadata": {
    "editable": true,
    "slideshow": {
     "slide_type": ""
    },
    "tags": []
   },
   "source": [
    "Lastly, one can change the value for a given key:"
   ]
  },
  {
   "cell_type": "code",
   "execution_count": 53,
   "id": "7ae4eb81-527e-419c-9339-7981b4b83d91",
   "metadata": {
    "editable": true,
    "slideshow": {
     "slide_type": ""
    },
    "tags": []
   },
   "outputs": [
    {
     "name": "stdout",
     "output_type": "stream",
     "text": [
      "{'France': 'Paris', 'India': 'New Delhi'}\n",
      "{'France': 'Lyon', 'India': 'New Delhi'}\n"
     ]
    }
   ],
   "source": [
    "d4 = {'France':'Paris', 'India': 'New Delhi'}\n",
    "print(d4)\n",
    "d4['France'] = 'Lyon'\n",
    "print(d4)"
   ]
  },
  {
   "cell_type": "markdown",
   "id": "cfdf0fff-e07c-4e64-9d20-a486447504d4",
   "metadata": {
    "editable": true,
    "slideshow": {
     "slide_type": ""
    },
    "tags": []
   },
   "source": [
    "## Sets\n",
    "\n",
    "A set is what you would expect from the analogous mathematical concept. A set is *unordered* and *mutable*. It will not contain duplicate elements."
   ]
  },
  {
   "cell_type": "code",
   "execution_count": 54,
   "id": "fe2a8709-72dd-4074-8b9e-666fe1924e3e",
   "metadata": {
    "editable": true,
    "slideshow": {
     "slide_type": ""
    },
    "tags": []
   },
   "outputs": [
    {
     "name": "stdout",
     "output_type": "stream",
     "text": [
      "{1, 2, 3, 7, 9}\n",
      "<class 'set'>\n"
     ]
    }
   ],
   "source": [
    "s = {1,2,3,7,9}\n",
    "print(s)\n",
    "print(type(s))"
   ]
  },
  {
   "cell_type": "markdown",
   "id": "37f38121-da54-4f41-835e-653ed1f4103f",
   "metadata": {
    "editable": true,
    "slideshow": {
     "slide_type": ""
    },
    "tags": []
   },
   "source": [
    "One can add new elements to a set: "
   ]
  },
  {
   "cell_type": "code",
   "execution_count": 55,
   "id": "96346fe1-f9d5-4800-9890-b3cbe82fb886",
   "metadata": {
    "editable": true,
    "slideshow": {
     "slide_type": ""
    },
    "tags": []
   },
   "outputs": [
    {
     "name": "stdout",
     "output_type": "stream",
     "text": [
      "{1, 2, 3, 7, 8, 9}\n"
     ]
    }
   ],
   "source": [
    "s.add(8)\n",
    "print(s)"
   ]
  },
  {
   "cell_type": "markdown",
   "id": "f0c8bcd7-347a-4367-9db1-7b88f340e1bb",
   "metadata": {
    "editable": true,
    "slideshow": {
     "slide_type": ""
    },
    "tags": []
   },
   "source": [
    "However adding an existing element will not change the set:"
   ]
  },
  {
   "cell_type": "code",
   "execution_count": 56,
   "id": "3933557c-9edc-49c0-b301-c3fd0e4b1362",
   "metadata": {
    "editable": true,
    "slideshow": {
     "slide_type": ""
    },
    "tags": []
   },
   "outputs": [
    {
     "name": "stdout",
     "output_type": "stream",
     "text": [
      "{1, 2, 3, 7, 8, 9}\n"
     ]
    }
   ],
   "source": [
    "s.add(1)\n",
    "print(s)"
   ]
  },
  {
   "cell_type": "markdown",
   "id": "4e9a6dfc-bfd4-44ea-9fc8-cab57272b05c",
   "metadata": {
    "editable": true,
    "slideshow": {
     "slide_type": ""
    },
    "tags": []
   },
   "source": [
    "One can also remove elements from the set:"
   ]
  },
  {
   "cell_type": "code",
   "execution_count": 57,
   "id": "2fa31882-ed0a-449e-98af-ba47c4cf31b2",
   "metadata": {
    "editable": true,
    "slideshow": {
     "slide_type": ""
    },
    "tags": []
   },
   "outputs": [
    {
     "name": "stdout",
     "output_type": "stream",
     "text": [
      "{1, 3, 7, 8, 9}\n"
     ]
    }
   ],
   "source": [
    "s.remove(2)\n",
    "print(s)"
   ]
  },
  {
   "cell_type": "markdown",
   "id": "7f1589e7-0af3-44ec-b240-b85b06abf870",
   "metadata": {
    "editable": true,
    "slideshow": {
     "slide_type": ""
    },
    "tags": []
   },
   "source": [
    "## Fancier structured printing via f-strings\n",
    "\n",
    "Above we used the print() function to print various things (variables, text, data types) to the screen. As the things you want to print get more complicated, and you are combining text you write in the program with the current value of data variables, you probably want to use an so-called \"f-string\" (i.e. a formatted string). We give some basic examples here, more detailed guides/information can be found elsewhere:\n",
    "\n",
    "  * [Fancier Output Formatting](https://docs.python.org/3/tutorial/inputoutput.html#fancier-output-formatting)\n",
    "  * [f-strings in Python](https://www.geeksforgeeks.org/formatted-string-literals-f-strings-python/)\n",
    "\n",
    "There is even a [\"mini-language\"](https://docs.python.org/3/library/string.html#formatspec) to given you fine-grained control over the printout, alignment, whitespace or other fill, numerical precision, etc.\n",
    "\n",
    "Here we just provide some common examples."
   ]
  },
  {
   "cell_type": "code",
   "execution_count": 58,
   "id": "5c91550e-0c18-4450-98f6-b66156da2dfa",
   "metadata": {
    "editable": true,
    "slideshow": {
     "slide_type": ""
    },
    "tags": []
   },
   "outputs": [
    {
     "name": "stdout",
     "output_type": "stream",
     "text": [
      "A common test printout when programming is Hello World!\n"
     ]
    }
   ],
   "source": [
    "s1 = \"Hello World!\"\n",
    "print(f'A common test printout when programming is {s1}')"
   ]
  },
  {
   "cell_type": "code",
   "execution_count": 59,
   "id": "9657cbe7-caa5-4386-b2b7-c6e3ff7c0ccd",
   "metadata": {
    "editable": true,
    "slideshow": {
     "slide_type": ""
    },
    "tags": []
   },
   "outputs": [
    {
     "name": "stdout",
     "output_type": "stream",
     "text": [
      "The capital of France is Paris\n"
     ]
    }
   ],
   "source": [
    "capitals = {'France': 'Paris', 'India': 'New Delhi', 'Argentina': 'Buenos Aires'}\n",
    "country = 'France'\n",
    "print(f'The capital of {country} is {capitals[country]}')"
   ]
  },
  {
   "cell_type": "code",
   "execution_count": 60,
   "id": "07158485-3e9f-4b5e-aad5-d82e4148238c",
   "metadata": {
    "editable": true,
    "slideshow": {
     "slide_type": ""
    },
    "tags": []
   },
   "outputs": [
    {
     "name": "stdout",
     "output_type": "stream",
     "text": [
      "The population of Amsterdam is 920000\n"
     ]
    }
   ],
   "source": [
    "city = 'Amsterdam'\n",
    "population = 920000\n",
    "print(f'The population of {city} is {population}')"
   ]
  },
  {
   "cell_type": "markdown",
   "id": "a3e38f52-68f7-4c25-b0a3-728404a564b8",
   "metadata": {
    "editable": true,
    "slideshow": {
     "slide_type": ""
    },
    "tags": []
   },
   "source": [
    "A quick and useful trick to show both a variable name *and* its current value when debugging is this syntax:"
   ]
  },
  {
   "cell_type": "code",
   "execution_count": 61,
   "id": "f5c5c4e0-dfc6-4c9d-867a-8fa5453d26d4",
   "metadata": {
    "editable": true,
    "slideshow": {
     "slide_type": ""
    },
    "tags": []
   },
   "outputs": [
    {
     "name": "stdout",
     "output_type": "stream",
     "text": [
      "some_variable=42\n"
     ]
    }
   ],
   "source": [
    "some_variable = 42\n",
    "print(f'{some_variable=}')"
   ]
  },
  {
   "cell_type": "markdown",
   "id": "fa469add-d601-40c5-b597-540bdece8d38",
   "metadata": {
    "editable": true,
    "slideshow": {
     "slide_type": ""
    },
    "tags": []
   },
   "source": [
    "Even without f-strings, you can give a series of variables, separted by commas, to the print() function and it will insert a whitespace."
   ]
  },
  {
   "cell_type": "code",
   "execution_count": 62,
   "id": "98b263be-a179-42a4-b15b-253007e56c3b",
   "metadata": {
    "editable": true,
    "slideshow": {
     "slide_type": ""
    },
    "tags": []
   },
   "outputs": [
    {
     "name": "stdout",
     "output_type": "stream",
     "text": [
      "Hello World!\n"
     ]
    }
   ],
   "source": [
    "s1 = \"Hello\"\n",
    "s2 = \"World!\"\n",
    "print(s1,s2)"
   ]
  },
  {
   "cell_type": "markdown",
   "id": "80d4bf1a-0e4f-4d4a-9290-486e5c8580c2",
   "metadata": {
    "editable": true,
    "slideshow": {
     "slide_type": ""
    },
    "tags": []
   },
   "source": [
    "## Type Conversions\n",
    "\n",
    "Sometimes it is necessary to convert between types."
   ]
  },
  {
   "cell_type": "code",
   "execution_count": 63,
   "id": "cc86aae6-c4d4-4212-9850-95ff6f55ae46",
   "metadata": {
    "editable": true,
    "slideshow": {
     "slide_type": ""
    },
    "tags": []
   },
   "outputs": [
    {
     "name": "stdout",
     "output_type": "stream",
     "text": [
      "3.14\n",
      "3\n"
     ]
    }
   ],
   "source": [
    "# Integer truncation from a float\n",
    "r = 3.14\n",
    "print(r)\n",
    "ir = int(3.14)\n",
    "print(ir)"
   ]
  },
  {
   "cell_type": "markdown",
   "id": "b9a51144-b253-4186-b785-608075d38522",
   "metadata": {
    "editable": true,
    "slideshow": {
     "slide_type": ""
    },
    "tags": []
   },
   "source": [
    "For example in cases where you read numbers from user input or a file, they may initially be read into a string variable and you will need to convert them to a numeric (e.g. integer) variable."
   ]
  },
  {
   "cell_type": "code",
   "execution_count": 64,
   "id": "a29229c4-154c-4746-bed9-0327f8d593c3",
   "metadata": {
    "editable": true,
    "slideshow": {
     "slide_type": ""
    },
    "tags": []
   },
   "outputs": [
    {
     "name": "stdout",
     "output_type": "stream",
     "text": [
      "s = 50 is of type <class 'str'>\n",
      "i = 50 is of type <class 'int'>\n"
     ]
    }
   ],
   "source": [
    "s = \"50\"\n",
    "print(f's = {s} is of type {type(s)}')\n",
    "i = int(s)\n",
    "print(f'i = {i} is of type {type(i)}')"
   ]
  },
  {
   "cell_type": "markdown",
   "id": "60d4b2be-d5a3-4ef7-9756-b2356cfc73b2",
   "metadata": {
    "editable": true,
    "slideshow": {
     "slide_type": ""
    },
    "tags": []
   },
   "source": [
    "The following generates an error. Do you understand why?"
   ]
  },
  {
   "cell_type": "code",
   "execution_count": 65,
   "id": "e62c4bcd-d74a-4697-8d5f-b22ff7ffda10",
   "metadata": {
    "editable": true,
    "jupyterbook": {
     "execute": {
      "allow_errors": true
     }
    },
    "slideshow": {
     "slide_type": ""
    },
    "tags": []
   },
   "outputs": [
    {
     "ename": "ValueError",
     "evalue": "invalid literal for int() with base 10: '3.14'",
     "output_type": "error",
     "traceback": [
      "\u001b[31m---------------------------------------------------------------------------\u001b[39m",
      "\u001b[31mValueError\u001b[39m                                Traceback (most recent call last)",
      "\u001b[36mCell\u001b[39m\u001b[36m \u001b[39m\u001b[32mIn[65]\u001b[39m\u001b[32m, line 2\u001b[39m\n\u001b[32m      1\u001b[39m s = \u001b[33m\"\u001b[39m\u001b[33m3.14\u001b[39m\u001b[33m\"\u001b[39m\n\u001b[32m----> \u001b[39m\u001b[32m2\u001b[39m i = \u001b[38;5;28;43mint\u001b[39;49m\u001b[43m(\u001b[49m\u001b[43ms\u001b[49m\u001b[43m)\u001b[49m\n",
      "\u001b[31mValueError\u001b[39m: invalid literal for int() with base 10: '3.14'"
     ]
    }
   ],
   "source": [
    "s = \"3.14\"\n",
    "i = int(s)"
   ]
  },
  {
   "cell_type": "markdown",
   "id": "8f0b64ee-e7db-4267-9da8-6b738b7cfe75",
   "metadata": {
    "editable": true,
    "slideshow": {
     "slide_type": ""
    },
    "tags": []
   },
   "source": [
    "The type conversion needs to match the initial type:"
   ]
  },
  {
   "cell_type": "code",
   "execution_count": 77,
   "id": "aadf85ed-636f-4f2f-b3df-38ea2fb7d4ec",
   "metadata": {
    "editable": true,
    "slideshow": {
     "slide_type": ""
    },
    "tags": []
   },
   "outputs": [
    {
     "name": "stdout",
     "output_type": "stream",
     "text": [
      "s = 3.14 is of type <class 'str'>\n",
      "r = 3.14 is of type <class 'float'>\n"
     ]
    }
   ],
   "source": [
    "s = \"3.14\"\n",
    "r = float(s)\n",
    "print(f's = {s} is of type {type(s)}')\n",
    "print(f'r = {r} is of type {type(r)}')"
   ]
  },
  {
   "cell_type": "markdown",
   "id": "09eb2f14-03a1-439c-ae5d-5f8339678138",
   "metadata": {
    "editable": true,
    "slideshow": {
     "slide_type": ""
    },
    "tags": []
   },
   "source": [
    "And numeric data can be converted to a string (and indexing/functions used):"
   ]
  },
  {
   "cell_type": "code",
   "execution_count": 80,
   "id": "961ff17b-1c43-4bcb-ae69-eabd6945b7d1",
   "metadata": {},
   "outputs": [
    {
     "name": "stdout",
     "output_type": "stream",
     "text": [
      "i = 12345 is of type <class 'int'>\n",
      "s = 12345 is of type <class 'str'>\n",
      "Slicing the int as a string: 34\n"
     ]
    }
   ],
   "source": [
    "i = 12345\n",
    "s = str(i)\n",
    "print(f'i = {i} is of type {type(i)}')\n",
    "print(f's = {s} is of type {type(s)}')\n",
    "print(f'Slicing the int as a string: {s[2:4]}')"
   ]
  },
  {
   "cell_type": "markdown",
   "id": "e567e5c2-934a-4879-a3d1-ffbdd7e8eaed",
   "metadata": {
    "editable": true,
    "slideshow": {
     "slide_type": ""
    },
    "tags": []
   },
   "source": [
    "Tuples can be unpacked into individual variables by simple assignment:"
   ]
  },
  {
   "cell_type": "code",
   "execution_count": 68,
   "id": "224e7555-cc63-4157-9398-90d33108e39d",
   "metadata": {
    "editable": true,
    "slideshow": {
     "slide_type": ""
    },
    "tags": []
   },
   "outputs": [
    {
     "name": "stdout",
     "output_type": "stream",
     "text": [
      "t = (1, 2) is of type <class 'tuple'>\n",
      "a = 1 is of type <class 'int'>\n",
      "b = 2 is of type <class 'int'>\n"
     ]
    }
   ],
   "source": [
    "t = (1,2)\n",
    "print(f't = {t} is of type {type(t)}')\n",
    "a, b = t\n",
    "print(f'a = {a} is of type {type(a)}')\n",
    "print(f'b = {b} is of type {type(b)}')"
   ]
  },
  {
   "cell_type": "markdown",
   "id": "1b7ca30d-9cf3-4115-9b43-d24a696dcc40",
   "metadata": {
    "editable": true,
    "slideshow": {
     "slide_type": ""
    },
    "tags": []
   },
   "source": [
    "At times, the length of a typle or list may not be known, but one knows that a fixed number of elements at\n",
    "the beginning or end need to be unpacked. This can be managed using ``*``, the so-called 'unpacking operator'. \n",
    "Here the middle elements are collected as a list in variable ``c``."
   ]
  },
  {
   "cell_type": "code",
   "execution_count": 70,
   "id": "f85e507e-a09a-43c3-8acf-7af0d4cca617",
   "metadata": {
    "editable": true,
    "slideshow": {
     "slide_type": ""
    },
    "tags": []
   },
   "outputs": [
    {
     "name": "stdout",
     "output_type": "stream",
     "text": [
      "a = 1 is of type <class 'int'>\n",
      "b = 2 is of type <class 'int'>\n",
      "c = [3, 4, 5] is of type <class 'list'>\n",
      "d = 6 is of type <class 'int'>\n"
     ]
    }
   ],
   "source": [
    "t = (1,2,3,4,5,6)\n",
    "a,b,*c,d = t\n",
    "print(f't = {t} is of type {type(t)}')\n",
    "print(f'a = {a} is of type {type(a)}')\n",
    "print(f'b = {b} is of type {type(b)}')\n",
    "print(f'c = {c} is of type {type(c)}')\n",
    "print(f'd = {d} is of type {type(d)}')"
   ]
  },
  {
   "cell_type": "markdown",
   "id": "57cfeb99-51cb-4043-94fc-10e6200b5198",
   "metadata": {},
   "source": [
    "Lists can also be unpacked and assigned to other variables in a similar fashion using ``*``."
   ]
  },
  {
   "cell_type": "code",
   "execution_count": 72,
   "id": "e0a2a361-5e60-4cb6-b2cf-311229bc223f",
   "metadata": {},
   "outputs": [
    {
     "name": "stdout",
     "output_type": "stream",
     "text": [
      "l = [1, 2, 3, 4, 5, 6] is of type <class 'list'>\n",
      "a = 1 is of type <class 'int'>\n",
      "b = 2 is of type <class 'int'>\n",
      "c = [3, 4, 5] is of type <class 'list'>\n",
      "d = 6 is of type <class 'int'>\n"
     ]
    }
   ],
   "source": [
    "l = [1,2,3,4,5,6]   # a list\n",
    "a,b,*c,d = l\n",
    "print(f'l = {l} is of type {type(l)}')\n",
    "print(f'a = {a} is of type {type(a)}')\n",
    "print(f'b = {b} is of type {type(b)}')\n",
    "print(f'c = {c} is of type {type(c)}')\n",
    "print(f'd = {d} is of type {type(d)}')"
   ]
  },
  {
   "cell_type": "markdown",
   "id": "e1ccdad3-e5cc-430d-83a5-a7079422d920",
   "metadata": {},
   "source": [
    "Lists can also be concatenated using the ``*`` operator."
   ]
  },
  {
   "cell_type": "code",
   "execution_count": 74,
   "id": "8a621e4e-3bab-4be7-8bd3-e17c8721cfc4",
   "metadata": {},
   "outputs": [
    {
     "name": "stdout",
     "output_type": "stream",
     "text": [
      "[1, 2, 3, 4]\n"
     ]
    }
   ],
   "source": [
    "a = [1,2]\n",
    "b = [3,4]\n",
    "c = [*a,*b]\n",
    "print(c)"
   ]
  },
  {
   "cell_type": "markdown",
   "id": "46eaecc0-310a-4860-a82f-7ef7338c03cc",
   "metadata": {},
   "source": [
    "## Complex Numbers\n",
    "\n",
    "Python can also handle complex numbers."
   ]
  },
  {
   "cell_type": "code",
   "execution_count": 5,
   "id": "3b036c76-2017-4c7e-9cbf-76b168edcfbe",
   "metadata": {},
   "outputs": [
    {
     "name": "stdout",
     "output_type": "stream",
     "text": [
      "(3+4j)\n"
     ]
    }
   ],
   "source": [
    "import cmath\n",
    "z = complex(3,4)\n",
    "print(z)"
   ]
  },
  {
   "cell_type": "code",
   "execution_count": 6,
   "id": "78e57030-407d-4dee-8dcb-54172ae87873",
   "metadata": {},
   "outputs": [
    {
     "name": "stdout",
     "output_type": "stream",
     "text": [
      "(-7+24j)\n"
     ]
    }
   ],
   "source": [
    "print(z**2)"
   ]
  },
  {
   "cell_type": "code",
   "execution_count": 10,
   "id": "863a43ec-838d-49d7-9d8a-04c47fbfb820",
   "metadata": {},
   "outputs": [
    {
     "name": "stdout",
     "output_type": "stream",
     "text": [
      "(3+4j) has (r,theta) = (5.0,0.9272952180016122)\n"
     ]
    }
   ],
   "source": [
    "r = abs(z)\n",
    "theta = cmath.phase(z)\n",
    "print(f'{z} has (r,theta) = ({r},{theta})')"
   ]
  }
 ],
 "metadata": {
  "kernelspec": {
   "display_name": "Python 3 (ipykernel)",
   "language": "python",
   "name": "python3"
  },
  "language_info": {
   "codemirror_mode": {
    "name": "ipython",
    "version": 3
   },
   "file_extension": ".py",
   "mimetype": "text/x-python",
   "name": "python",
   "nbconvert_exporter": "python",
   "pygments_lexer": "ipython3",
   "version": "3.13.3"
  }
 },
 "nbformat": 4,
 "nbformat_minor": 5
}
