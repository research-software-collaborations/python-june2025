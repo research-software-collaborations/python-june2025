{
 "cells": [
  {
   "cell_type": "markdown",
   "id": "634f42a0-f0f4-442d-9f20-b0ee9ebdcc91",
   "metadata": {},
   "source": [
    "# Conditionals and Iterating"
   ]
  },
  {
   "cell_type": "markdown",
   "id": "eda6e79d-6285-4462-9af6-c3c303cfd122",
   "metadata": {},
   "source": [
    "## Conditions with ``if``, ``elif`` and ``else``"
   ]
  },
  {
   "cell_type": "markdown",
   "id": "3ac3f558-e42c-482e-b02b-02bff64b9b4e",
   "metadata": {},
   "source": [
    "Often it is necessary to make decisions in a program based on whether some criteria is True or False. For this we can use comparison operators such as ``>`` (greater than), ``>`` (less than) and ``==`` (mean numerically identical). For example:"
   ]
  },
  {
   "cell_type": "code",
   "execution_count": 26,
   "id": "7ede5f4b-7264-4dcf-9f7d-383280c047ff",
   "metadata": {},
   "outputs": [],
   "source": [
    "x = 7\n",
    "if x > 7:\n",
    "    print('Gotcha!')"
   ]
  },
  {
   "cell_type": "markdown",
   "id": "42a5c4f1-631f-4aa3-909b-f5cce424f910",
   "metadata": {},
   "source": [
    "We can also handle the case where the main condition was *not* satisified using the keyword ``else``:"
   ]
  },
  {
   "cell_type": "code",
   "execution_count": 27,
   "id": "ffb2b1f4-32ef-40da-a593-8724519080f7",
   "metadata": {},
   "outputs": [
    {
     "name": "stdout",
     "output_type": "stream",
     "text": [
      "Not Gotcha!\n"
     ]
    }
   ],
   "source": [
    "x = 2\n",
    "if x > 7:\n",
    "    print('Gotcha!')\n",
    "else:\n",
    "    print('Not Gotcha!')"
   ]
  },
  {
   "cell_type": "markdown",
   "id": "d654d710-ff59-4292-953e-040fe0d38e01",
   "metadata": {},
   "source": [
    "Multiple cases can also be handled using the keyword ``elif``, meaning means \"else if\":"
   ]
  },
  {
   "cell_type": "code",
   "execution_count": 28,
   "id": "a05106af-9793-46b0-83ec-c4c740890536",
   "metadata": {},
   "outputs": [
    {
     "name": "stdout",
     "output_type": "stream",
     "text": [
      "Negative\n"
     ]
    }
   ],
   "source": [
    "x = -2\n",
    "if x > 0:\n",
    "    print('Positive')\n",
    "elif x < 0:\n",
    "    print('Negative')\n",
    "else:\n",
    "    print('Must be zero')"
   ]
  },
  {
   "cell_type": "markdown",
   "id": "b54de5b3-cba0-487c-90f3-983d6c5dc7f0",
   "metadata": {},
   "source": []
  },
  {
   "cell_type": "code",
   "execution_count": 29,
   "id": "49779c28-aebd-466b-b323-d9e3199cc90b",
   "metadata": {},
   "outputs": [
    {
     "name": "stdout",
     "output_type": "stream",
     "text": [
      "Found an e\n"
     ]
    }
   ],
   "source": [
    "s = \"Hello\"\n",
    "if 'e' in s:\n",
    "    print('Found an e')\n",
    "elif 'l' in s:\n",
    "    print('Found an l')\n",
    "elif 't' in s:\n",
    "    print('Found an t')\n",
    "else:\n",
    "    print('Cannot find any of my preferred letters e, l and t')"
   ]
  },
  {
   "cell_type": "markdown",
   "id": "f7c55a06-a04d-4d7c-b705-93d48caef7e8",
   "metadata": {},
   "source": [
    "And one can use multiple and more complicated boolean expressions in ``if ... elif ...`` conditional blocks. You\n",
    "can use logical expressions involving ``and`` and ``or`` and parentheses to group them."
   ]
  },
  {
   "cell_type": "code",
   "execution_count": 30,
   "id": "b2a64bdc-0d1c-4e5a-888b-379916f743e7",
   "metadata": {},
   "outputs": [
    {
     "name": "stdout",
     "output_type": "stream",
     "text": [
      "Run 5km today\n"
     ]
    }
   ],
   "source": [
    "day_of_the_week = 'Tuesday'\n",
    "color_of_the_car = 'Red'\n",
    "slept_well = True\n",
    "month = 'December'\n",
    "#location = 'Chicago'\n",
    "location = 'Mumbai'\n",
    "\n",
    "if month == 'December' and location == 'Chicago':\n",
    "    print('Hibernate!')\n",
    "elif (day_of_the_week == 'Tuesday' or day_of_the_week == 'Thursday') and slept_well:\n",
    "    print('Run 5km today')\n",
    "elif day_of_the_week == 'Friday' and color_of_the_car == 'Red':\n",
    "    print('Little Red Corvette - escaping for the weekend!')\n",
    "elif day_of_the_week in ['Monday', 'Wednesday']:\n",
    "    print('Normal days, normal things...')\n",
    "else:\n",
    "    print('It must be Sunday or I slept badly or my car broke down')"
   ]
  },
  {
   "cell_type": "markdown",
   "id": "13596f3b-964a-4e99-a510-ab9a088f0fdc",
   "metadata": {},
   "source": [
    "## Indentation in Python\n",
    "\n",
    "An important feature of python is the use of indentation to indicate which execution elements are part of (for example) an ``if ... elif ...`` construct. For example consider the following examples:"
   ]
  },
  {
   "cell_type": "code",
   "execution_count": 31,
   "id": "d7e3dc7a-c67f-4bd4-8e4f-eb723d5fe084",
   "metadata": {},
   "outputs": [
    {
     "name": "stdout",
     "output_type": "stream",
     "text": [
      "Gotcha\n",
      "Completed\n"
     ]
    }
   ],
   "source": [
    "x = 9\n",
    "if (x>0):\n",
    "    print('Gotcha')\n",
    "else:\n",
    "    print('Nope')\n",
    "print('Completed')"
   ]
  },
  {
   "cell_type": "code",
   "execution_count": 32,
   "id": "24c3fe87-a2a4-40d8-b53b-c7c33d480f49",
   "metadata": {},
   "outputs": [
    {
     "name": "stdout",
     "output_type": "stream",
     "text": [
      "Gotcha\n"
     ]
    }
   ],
   "source": [
    "x = 9\n",
    "if (x>0):\n",
    "    print('Gotcha')\n",
    "else:\n",
    "    print('Nope')\n",
    "    print('Completed')"
   ]
  },
  {
   "cell_type": "markdown",
   "id": "c6ebe704-b9a3-43bd-a502-670c029912c0",
   "metadata": {},
   "source": [
    "Note that the indentation (number of spaces) must be consistent throughout any program you write. (Commonly 4 spaces is used.) Python will generate an error if the indentation is not consistent."
   ]
  },
  {
   "cell_type": "markdown",
   "id": "8ec7981e-7c40-43bd-8ab1-45a9a6f246e5",
   "metadata": {},
   "source": [
    "## Iterating over things with ``for``\n",
    "\n",
    "Often in programming we want to do something for a large number of cases. A ``for`` loop is a (sequential) method to \n",
    "iterate over each of those cases, one after another. In the following we use the ``range(5)`` function, which will sequentially \n",
    "values in the order ``[0,1,2,3,4]``. For each iteration of the loop, the variable ``i`` is set to the next value and the indented code is\n",
    "executed."
   ]
  },
  {
   "cell_type": "code",
   "execution_count": 33,
   "id": "dd726311-c106-4c1a-9397-06f0230de5e0",
   "metadata": {},
   "outputs": [
    {
     "name": "stdout",
     "output_type": "stream",
     "text": [
      "0\n",
      "1\n",
      "2\n",
      "3\n",
      "4\n"
     ]
    }
   ],
   "source": [
    "for i in range(5):\n",
    "    print(i)"
   ]
  },
  {
   "cell_type": "markdown",
   "id": "a5d3b8d7-e8fb-42ae-bade-e87f1e723319",
   "metadata": {},
   "source": [
    "The function ``range(start,stop,step)`` offers more flexibility and we use it here to construct a list of integers ``l``. "
   ]
  },
  {
   "cell_type": "code",
   "execution_count": 34,
   "id": "6ba97213-fa84-4828-9afe-b824066f84de",
   "metadata": {},
   "outputs": [
    {
     "name": "stdout",
     "output_type": "stream",
     "text": [
      "[0, 2, 4, 6, 8, 10, 12, 14, 16, 18]\n"
     ]
    }
   ],
   "source": [
    "l = []\n",
    "for i in range(0,20,2):\n",
    "    l.append(i)\n",
    "print(l)"
   ]
  },
  {
   "cell_type": "markdown",
   "id": "83bbd865-fa3b-459b-b3c4-d0901247c8b6",
   "metadata": {},
   "source": [
    "More complex things can be executed within the loop:"
   ]
  },
  {
   "cell_type": "code",
   "execution_count": 35,
   "id": "27368403-a963-4ace-851f-c55668acdc80",
   "metadata": {},
   "outputs": [
    {
     "name": "stdout",
     "output_type": "stream",
     "text": [
      "[10, 40, 70]\n"
     ]
    }
   ],
   "source": [
    "l = []\n",
    "for i in range(0,20,2):\n",
    "    if (i%3==2):\n",
    "        l.append(i*5)\n",
    "print(l)"
   ]
  },
  {
   "cell_type": "markdown",
   "id": "981da536-a3d2-4cf2-ad03-930c2370872f",
   "metadata": {},
   "source": [
    "We are not limited to looping on numeric values and in fact we can loop over elements of other data types such as lists.\n",
    "For each iteration of the loop we define a variable ``flavor`` which will be taken sequentially from the list of ``flavors``."
   ]
  },
  {
   "cell_type": "code",
   "execution_count": 36,
   "id": "a723c5d2-44bc-469e-b24b-ef6e17e4a192",
   "metadata": {},
   "outputs": [
    {
     "name": "stdout",
     "output_type": "stream",
     "text": [
      "Flavor of the day is vanilla\n",
      "Flavor of the day is mango\n",
      "Flavor of the day is pistachio\n",
      "Flavor of the day is strawberry\n",
      "Flavor of the day is chocolate\n"
     ]
    }
   ],
   "source": [
    "flavors = ['vanilla','mango','pistachio','strawberry','chocolate']\n",
    "for flavor in flavors:\n",
    "    print(f'Flavor of the day is {flavor}')"
   ]
  },
  {
   "cell_type": "markdown",
   "id": "e9ad1c2e-cbe7-4ea9-8822-5d2a3dad75b6",
   "metadata": {},
   "source": [
    "## Continue executing ``while`` some condition is true\n",
    "\n",
    "In some cases one wants to execute repetitively a piece of code until some condition is true (where the code executed\n",
    "is affecting something relevant for the evaluation of the condition). While one can use a ``for`` loop when the condition\n",
    "is simple enough that the number of times to execute is known in advance, sometimes it isn't clear in advance when the \n",
    "condition will become true. An example is when a calculation as part of each iteration (for which the answer is nominally not\n",
    "known in advance). This can be done using a ``while`` loop:"
   ]
  },
  {
   "cell_type": "code",
   "execution_count": 37,
   "id": "9b40fedd-5216-40d4-b740-0703ada83eaa",
   "metadata": {},
   "outputs": [
    {
     "name": "stdout",
     "output_type": "stream",
     "text": [
      "1\n",
      "3\n",
      "9\n",
      "27\n",
      "81\n",
      "243\n",
      "729\n",
      "2187\n",
      "6561\n"
     ]
    }
   ],
   "source": [
    "# Calculate when the last number < 10000 when tripling each iteration\n",
    "n = 1\n",
    "while n < 10000:\n",
    "    print(n)\n",
    "    n *= 3"
   ]
  },
  {
   "cell_type": "markdown",
   "id": "e8e15c72-b253-40be-8875-7fd2aff405da",
   "metadata": {},
   "source": [
    "## Handling Many Matches for a Single Expression with ``Match ... Case``\n",
    "\n",
    "If you are just have a single expression (as opposed to multiple and varied boolean expressions) that you want to match against a \n",
    "series of patterns/options using ``if ... elif ... elif ... elif ... elif ...`` chain can be complicated. A more readable method is to use a \n",
    "``match case`` statement."
   ]
  },
  {
   "cell_type": "code",
   "execution_count": 38,
   "id": "decd79d6-b616-41b3-ae39-6ad756aa67e5",
   "metadata": {},
   "outputs": [],
   "source": [
    "people = { \"Alice\": \"New York\", \"Bob\": \"Bangalore\", \"Charlie\": \"Paris\", \"David\": \"Tokyo\",\n",
    "    \"Eve\": \"New York\", \"Frank\": \"Rome\", \"Grace\": \"Mumbai\", \"Heidi\": \"Paris\",\n",
    "    \"Priya\": \"Mumbai\", \"Ivan\": \"New York\", \"Judy\": \"Tokyo\", \"Kevin\": \"Berlin\",\n",
    "    \"Liam\": \"London\", \"Mia\": \"New York\", \"Noah\": \"Paris\", \"Olivia\": \"Tokyo\",\n",
    "    \"Peter\": \"Berlin\", \"Quinn\": \"London\", \"Rahul\": \"Mumbai\", \"Mei\": \"Shanghai\",\n",
    "    \"Sven\": \"Stockholm\", \"Arjun\": \"Paris\", \"Giuseppe\": \"Berlin\" }"
   ]
  },
  {
   "cell_type": "code",
   "execution_count": 39,
   "id": "a1bda399-13e9-4a83-a5fa-1583cda1bfc5",
   "metadata": {},
   "outputs": [],
   "source": [
    "berlin = []\n",
    "mumbai = []\n",
    "paris = []\n",
    "unknown = []\n",
    "unknown_cities = set()  # Use a set to get unique values\n",
    "for key,value in people.items():\n",
    "    match value:\n",
    "        case 'Berlin':\n",
    "            berlin.append(key)\n",
    "        case 'Mumbai':\n",
    "            mumbai.append(key)\n",
    "        case 'Paris':\n",
    "            paris.append(key)\n",
    "        case _:                     # _ matches any value\n",
    "            unknown.append(key)\n",
    "            unknown_cities.add(value)"
   ]
  },
  {
   "cell_type": "code",
   "execution_count": 40,
   "id": "9679fb95-669d-479a-8575-2ebc4f6e84d9",
   "metadata": {},
   "outputs": [
    {
     "name": "stdout",
     "output_type": "stream",
     "text": [
      "Inhabitants of Berlin: ['Kevin', 'Peter', 'Giuseppe']\n",
      "Inhabitants of Mumbai: ['Grace', 'Priya', 'Rahul']\n",
      "Inhabitants of Paris: ['Charlie', 'Heidi', 'Noah', 'Arjun']\n",
      "Inhabitants of other unknown cities: ['Alice', 'Bob', 'David', 'Eve', 'Frank', 'Ivan', 'Judy', 'Liam', 'Mia', 'Olivia', 'Quinn', 'Mei', 'Sven']\n",
      "The unknown cities are: {'Stockholm', 'London', 'Bangalore', 'New York', 'Shanghai', 'Rome', 'Tokyo'}\n"
     ]
    }
   ],
   "source": [
    "print(f'Inhabitants of Berlin: {berlin}')\n",
    "print(f'Inhabitants of Mumbai: {mumbai}')\n",
    "print(f'Inhabitants of Paris: {paris}')\n",
    "print(f'Inhabitants of other unknown cities: {unknown}')\n",
    "print(f'The unknown cities are: {unknown_cities}')"
   ]
  },
  {
   "cell_type": "markdown",
   "id": "5dc92023-1898-404a-81c5-7f821a1fc7ae",
   "metadata": {},
   "source": [
    "## Loops involving lists and dicts"
   ]
  },
  {
   "cell_type": "code",
   "execution_count": 41,
   "id": "049510bd-593e-470b-a8ff-521f938663b5",
   "metadata": {},
   "outputs": [],
   "source": [
    "hindi_numbers = [\"ek\", \"do\", \"tīn\", \"chār\", \"pāñch\", \"chhah\", \"sāt\", \"āṭh\"]"
   ]
  },
  {
   "cell_type": "code",
   "execution_count": 42,
   "id": "d52a32eb-2761-4560-9901-06156ba3bf11",
   "metadata": {},
   "outputs": [
    {
     "name": "stdout",
     "output_type": "stream",
     "text": [
      "ek\n",
      "do\n",
      "tīn\n",
      "chār\n",
      "pāñch\n",
      "chhah\n",
      "sāt\n",
      "āṭh\n"
     ]
    }
   ],
   "source": [
    "for name in hindi_numbers:\n",
    "    print(name)"
   ]
  },
  {
   "cell_type": "code",
   "execution_count": 43,
   "id": "567941e4-c5ab-42df-b904-1d277378432f",
   "metadata": {},
   "outputs": [
    {
     "name": "stdout",
     "output_type": "stream",
     "text": [
      "ek is 1\n",
      "do is 2\n",
      "tīn is 3\n",
      "chār is 4\n",
      "pāñch is 5\n",
      "chhah is 6\n",
      "sāt is 7\n",
      "āṭh is 8\n"
     ]
    }
   ],
   "source": [
    "for n,name in enumerate(hindi_numbers):\n",
    "    print(f'{name} is {n+1}')"
   ]
  },
  {
   "cell_type": "code",
   "execution_count": 44,
   "id": "b9817b08-dfdd-4f16-8c12-5b7e2cb8b406",
   "metadata": {},
   "outputs": [],
   "source": [
    "greek_to_me = {\n",
    "    'alpha': 1,\n",
    "    'beta': 2,\n",
    "    'gamma': 3,\n",
    "    'delta': 4,\n",
    "    'epsilon': 5,\n",
    "    'zeta': 6,\n",
    "    'eta': 7,\n",
    "    'theta': 8\n",
    "}"
   ]
  },
  {
   "cell_type": "code",
   "execution_count": 45,
   "id": "4e992f18-8492-44db-b7c3-dc1de0212b57",
   "metadata": {},
   "outputs": [
    {
     "name": "stdout",
     "output_type": "stream",
     "text": [
      "alpha\n",
      "beta\n",
      "gamma\n",
      "delta\n",
      "epsilon\n",
      "zeta\n",
      "eta\n",
      "theta\n"
     ]
    }
   ],
   "source": [
    "for key in greek_to_me.keys():\n",
    "    print(key)"
   ]
  },
  {
   "cell_type": "code",
   "execution_count": 46,
   "id": "a5250274-c16e-41dc-a2a3-077925991856",
   "metadata": {},
   "outputs": [
    {
     "name": "stdout",
     "output_type": "stream",
     "text": [
      "1\n",
      "2\n",
      "3\n",
      "4\n",
      "5\n",
      "6\n",
      "7\n",
      "8\n"
     ]
    }
   ],
   "source": [
    "for value in greek_to_me.values():\n",
    "    print(value)"
   ]
  },
  {
   "cell_type": "code",
   "execution_count": 47,
   "id": "d3de566f-2f95-41ee-8896-bc86a2adfbe2",
   "metadata": {},
   "outputs": [
    {
     "name": "stdout",
     "output_type": "stream",
     "text": [
      "alpha has value 1\n",
      "beta has value 2\n",
      "gamma has value 3\n",
      "delta has value 4\n",
      "epsilon has value 5\n",
      "zeta has value 6\n",
      "eta has value 7\n",
      "theta has value 8\n"
     ]
    }
   ],
   "source": [
    "for key,value in greek_to_me.items():\n",
    "    print(f'{key} has value {value}')"
   ]
  },
  {
   "cell_type": "markdown",
   "id": "96879cdd-f63b-4864-98c0-5c93b2c9df92",
   "metadata": {},
   "source": [
    "# List Comprehensions\n",
    "\n",
    "Python also offers a concise method for iterating over something that can be helpful in certain circumstances, e.g. when constructing a list:"
   ]
  },
  {
   "cell_type": "code",
   "execution_count": 48,
   "id": "f62bc505-6753-4e60-a0c9-912c32cac5a3",
   "metadata": {},
   "outputs": [
    {
     "name": "stdout",
     "output_type": "stream",
     "text": [
      "[-10, -9, -6, -1, 6, 15, 26, 39]\n"
     ]
    }
   ],
   "source": [
    "l = [(x**2 - 10) for x in range(8)]\n",
    "print(l)"
   ]
  },
  {
   "cell_type": "markdown",
   "id": "14701a93-9e70-426e-a7b1-b97a8e6266be",
   "metadata": {},
   "source": [
    "This can be combined with an inline conditional:"
   ]
  },
  {
   "cell_type": "code",
   "execution_count": 49,
   "id": "4907b0c6-88a5-4435-a25b-2f739aaaab7a",
   "metadata": {},
   "outputs": [
    {
     "name": "stdout",
     "output_type": "stream",
     "text": [
      "[-10, -6, 6, 26]\n"
     ]
    }
   ],
   "source": [
    "l = [(x**2 - 10) for x in range(8) if x%2 == 0]  # Choose only even numbers\n",
    "print(l)"
   ]
  },
  {
   "cell_type": "markdown",
   "id": "8284f0b9-00ff-433e-b502-36b938413779",
   "metadata": {},
   "source": [
    "Even if called \"list\" comprehensions, the same syntax can be used to construct other things such as dicts and sets:"
   ]
  },
  {
   "cell_type": "code",
   "execution_count": 50,
   "id": "74fba801-f446-401f-b20b-36e2063d3336",
   "metadata": {},
   "outputs": [
    {
     "data": {
      "text/plain": [
       "{-10: 100,\n",
       " -9: 81,\n",
       " -8: 64,\n",
       " -7: 49,\n",
       " -6: 36,\n",
       " -5: 25,\n",
       " -4: 16,\n",
       " -3: 9,\n",
       " -2: 4,\n",
       " -1: 1,\n",
       " 0: 0,\n",
       " 1: 1,\n",
       " 2: 4,\n",
       " 3: 9,\n",
       " 4: 16,\n",
       " 5: 25,\n",
       " 6: 36,\n",
       " 7: 49,\n",
       " 8: 64,\n",
       " 9: 81}"
      ]
     },
     "execution_count": 50,
     "metadata": {},
     "output_type": "execute_result"
    }
   ],
   "source": [
    "d = {x:x**2 for x in range(-10,10)}  # create a dictionary\n",
    "d"
   ]
  },
  {
   "cell_type": "code",
   "execution_count": 51,
   "id": "bac93b39-4655-48f5-8005-ce8385fdebcd",
   "metadata": {},
   "outputs": [
    {
     "data": {
      "text/plain": [
       "{0, 1, 4, 9, 16, 25, 36, 49, 64, 81, 100}"
      ]
     },
     "execution_count": 51,
     "metadata": {},
     "output_type": "execute_result"
    }
   ],
   "source": [
    "s = {x**2 for x in range(-10,10)}  # Create a set (which will store unique values and not duplicate values)\n",
    "s"
   ]
  },
  {
   "cell_type": "code",
   "execution_count": null,
   "id": "e325d6d3-3541-4adf-b4f3-bb86556d0b38",
   "metadata": {},
   "outputs": [],
   "source": []
  }
 ],
 "metadata": {
  "kernelspec": {
   "display_name": "Python 3 (ipykernel)",
   "language": "python",
   "name": "python3"
  },
  "language_info": {
   "codemirror_mode": {
    "name": "ipython",
    "version": 3
   },
   "file_extension": ".py",
   "mimetype": "text/x-python",
   "name": "python",
   "nbconvert_exporter": "python",
   "pygments_lexer": "ipython3",
   "version": "3.13.3"
  }
 },
 "nbformat": 4,
 "nbformat_minor": 5
}
