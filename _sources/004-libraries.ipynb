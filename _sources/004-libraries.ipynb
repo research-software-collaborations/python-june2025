{
 "cells": [
  {
   "cell_type": "markdown",
   "id": "a51b9d0d-fe40-4417-bffb-4a6f5a968f3f",
   "metadata": {},
   "source": [
    "# Python Libraries and Modules"
   ]
  },
  {
   "cell_type": "markdown",
   "id": "f6d1b2bb-ca29-4c75-b56a-1af2dabdf248",
   "metadata": {},
   "source": [
    "## The Python Standard Library\n",
    "\n",
    "The Python standard library provides a variety of general use built-in libraries. If you have installed any recent version of Python you\n",
    "should have these available without needing to do any additional software installations. You will however need to make them visible\n",
    "with any given program via the use of the ``import`` command, e.g. to import the math library\n",
    "\n",
    "```python\n",
    "import math\n",
    "```\n",
    "\n",
    "This will make all functions from that library visible in your program. For larger modules with sub-packages, one sometimes imports only\n",
    "specified subpackages:\n",
    "\n",
    "```python\n",
    "from datetime import datetime, timedelta\n",
    "```\n",
    "\n",
    "Some widely used built-in modules include:\n",
    "\n",
    "  * math - provides basic math functions (but see also Numpy)\n",
    "  * datetime - provides tools for manipulating dates and times\n",
    "  * random - tools for generating pseudo-random numbers (see [our separate, dedicated section](009-random-numbers) in this review for info about using both the built-in random module and similar functionality in Numpy)\n",
    "  * pathlib - object-oriented tools for managing file paths\n",
    "  * re - provides tools for using [regular expressions](https://en.wikipedia.org/wiki/Regular_expression) for pattern matching strings in Python\n",
    "  * pprint - provides functionality to pretty-print complicated data types (e.g. lists, dictionaries) in a more readable fashion\n",
    "\n",
    "We give some examples with these below, however there are many more. See the full [Python Standard Library documentation](https://docs.python.org/3/library/index.html) for the full list of built-in modules and more detail on each."
   ]
  },
  {
   "cell_type": "markdown",
   "id": "aa7cb418-7779-476a-badb-812fc76315bc",
   "metadata": {},
   "source": [
    "## Examples from the Python Standard Library"
   ]
  },
  {
   "cell_type": "code",
   "execution_count": 11,
   "id": "d04f7631-4bd6-4dfc-a838-17b4e4bd477b",
   "metadata": {},
   "outputs": [
    {
     "name": "stdout",
     "output_type": "stream",
     "text": [
      "0.7071067811865475\n"
     ]
    }
   ],
   "source": [
    "import math\n",
    "\n",
    "angle = math.radians(45)\n",
    "print(math.sin(angle))"
   ]
  },
  {
   "cell_type": "code",
   "execution_count": 12,
   "id": "a2449597-cd43-4b15-9a2e-6566d5bc0ff2",
   "metadata": {},
   "outputs": [
    {
     "name": "stdout",
     "output_type": "stream",
     "text": [
      "2025-05-31\n",
      "2025-06-01\n"
     ]
    }
   ],
   "source": [
    "from datetime import datetime, timedelta\n",
    "\n",
    "now = datetime.now()\n",
    "print(now.strftime(\"%Y-%m-%d\"))\n",
    "tomorrow = now + timedelta(days=1)\n",
    "print(tomorrow.strftime(\"%Y-%m-%d\"))"
   ]
  },
  {
   "cell_type": "code",
   "execution_count": 13,
   "id": "47c2d64a-1403-4a52-aff5-24c483c5d97e",
   "metadata": {},
   "outputs": [
    {
     "name": "stdout",
     "output_type": "stream",
     "text": [
      "123-456-7890\n"
     ]
    }
   ],
   "source": [
    "import re\n",
    "\n",
    "text = \"My phone number is 123-456-7890\"\n",
    "match = re.search(r\"\\d{3}-\\d{3}-\\d{4}\", text)\n",
    "print(match.group())  # Output: 123-456-7890"
   ]
  },
  {
   "cell_type": "code",
   "execution_count": 14,
   "id": "9a568fcb-e019-4ee0-926d-1c1b087a99ec",
   "metadata": {},
   "outputs": [
    {
     "name": "stdout",
     "output_type": "stream",
     "text": [
      "\n",
      "The standard printout is:\n",
      "\n",
      "{'name': 'Alice', 'scores': [98, 85, 91], 'details': {'age': 30, 'city': 'Paris'}}\n",
      "\n",
      "The pretty-print version is:\n",
      "\n",
      "{'details': {'age': 30, 'city': 'Paris'},\n",
      " 'name': 'Alice',\n",
      " 'scores': [98, 85, 91]}\n"
     ]
    }
   ],
   "source": [
    "from pprint import pprint\n",
    "\n",
    "data = {'name': 'Alice', 'scores': [98, 85, 91], 'details': {'age': 30, 'city': 'Paris'}}\n",
    "print('\\nThe standard printout is:\\n')\n",
    "print(data)\n",
    "print('\\nThe pretty-print version is:\\n')\n",
    "pprint(data)"
   ]
  },
  {
   "cell_type": "code",
   "execution_count": null,
   "id": "eb250be1-8069-4129-963e-e59c82bf2820",
   "metadata": {},
   "outputs": [],
   "source": []
  },
  {
   "cell_type": "markdown",
   "id": "8c453f01-bf07-42b1-a41b-c73ebed277ba",
   "metadata": {},
   "source": [
    "## The Larger Scientific and Data Science Python Ecosystem\n",
    "\n",
    "![Python Ecosystem](assets/python-ecosystem.png)\n",
    "\n",
    "The Python language itself was designed to be flexible and easy to use, read and write. But what makes it really\n",
    "powerful is the very large ecosystem of add-on packages spanning many scientific domain as well as the data science and \n",
    "machine learning worlds. There are way too many to cover in this short review, but we cover three of the most important\n",
    "ones:\n",
    "\n",
    "  * numpy - a performance-oriented math library for large multi-dimensional arrays, see [our quick review of Numpy](005-numpy)\n",
    "  * matplotlib - a library for a making, customizing and styling plots from data, see [our quick review of matplotlib](006-making-plots)\n",
    "  * pandas - a library for manipulating and analyzing data in \"tabular\" format with rows and columns, see [our quick review of Pandas](007-pandas)\n",
    "\n",
    "but once you master the material in these lessons (and\n",
    "certainly by the time you have achieved \"100 hours\" of actual code writing) you will naturally find yourself leveraging"
   ]
  },
  {
   "cell_type": "markdown",
   "id": "4983fcd2-28d0-4edb-b99d-e664b00779b9",
   "metadata": {},
   "source": [
    "## The Python Ecosystem in HEP - Scikit-HEP\n",
    "\n",
    "![Scikit-HEP](assets/scikit-hep-ecosystem.png)"
   ]
  }
 ],
 "metadata": {
  "kernelspec": {
   "display_name": "Python 3 (ipykernel)",
   "language": "python",
   "name": "python3"
  },
  "language_info": {
   "codemirror_mode": {
    "name": "ipython",
    "version": 3
   },
   "file_extension": ".py",
   "mimetype": "text/x-python",
   "name": "python",
   "nbconvert_exporter": "python",
   "pygments_lexer": "ipython3",
   "version": "3.13.3"
  }
 },
 "nbformat": 4,
 "nbformat_minor": 5
}
