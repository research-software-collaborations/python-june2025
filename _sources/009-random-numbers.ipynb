{
 "cells": [
  {
   "cell_type": "markdown",
   "id": "24a3a1fa-43f3-4ddf-ab14-18d9e5ddf964",
   "metadata": {},
   "source": [
    "# Random numbers\n",
    "\n",
    "Being able to generate random numbers is useful both for games and for computational techniques such as Monte Carlo methods."
   ]
  },
  {
   "cell_type": "markdown",
   "id": "c04fcb32-3f0c-44b0-9fe0-caa7528861dd",
   "metadata": {},
   "source": [
    "## Using the built-in random library\n",
    "\n",
    "The standard built-in random library which is part of the Python offers several useful functions:\n",
    "\n",
    "  * random.randint(a, b) – random integer between a and b (inclusive)\n",
    "  * random.random() – random float between 0.0 and 1.0\n",
    "  * random.choice(seq) – random element from a sequence (typically a list)\n",
    "  * random.shuffle(seq) – shuffle a list in-place (i.e. the list changes)\n",
    "\n",
    "There are many other useful functions, see the [full documentation](https://docs.python.org/3/library/random.html) for more information."
   ]
  },
  {
   "cell_type": "code",
   "execution_count": 148,
   "id": "038f194c-debb-45bd-b6ea-0670608eda56",
   "metadata": {},
   "outputs": [],
   "source": [
    "import random"
   ]
  },
  {
   "cell_type": "code",
   "execution_count": 149,
   "id": "988077dd-da18-42ed-843b-100ba47fb303",
   "metadata": {},
   "outputs": [
    {
     "name": "stdout",
     "output_type": "stream",
     "text": [
      "9\n",
      "8\n",
      "8\n",
      "7\n",
      "7\n",
      "4\n",
      "8\n",
      "10\n",
      "10\n",
      "2\n",
      "3\n",
      "3\n",
      "1\n",
      "8\n",
      "10\n",
      "2\n",
      "7\n",
      "7\n",
      "4\n",
      "10\n"
     ]
    }
   ],
   "source": [
    "ntries = 20\n",
    "for i in range(ntries):\n",
    "   print(random.randint(1,10)) "
   ]
  },
  {
   "cell_type": "code",
   "execution_count": 150,
   "id": "3043a75c-504f-4e2a-8693-7058436b6c42",
   "metadata": {},
   "outputs": [
    {
     "name": "stdout",
     "output_type": "stream",
     "text": [
      "0.28651105831285695\n",
      "0.7736714634949775\n",
      "0.16512547122577792\n",
      "0.6915721489281865\n",
      "0.5871145185554216\n",
      "0.2581438811086636\n",
      "0.7799515289799268\n",
      "0.8238183253043656\n",
      "0.5600414298799906\n",
      "0.2589097202558708\n",
      "0.7829454669342427\n",
      "0.1530608525619831\n",
      "0.7751525413530407\n",
      "0.09908652851096711\n",
      "0.2156294175335708\n",
      "0.21906215590383182\n",
      "0.3806655876769882\n",
      "0.17975351511380921\n",
      "0.5225426222149063\n",
      "0.4666526295327297\n"
     ]
    }
   ],
   "source": [
    "for i in range(ntries):\n",
    "    print(random.random())"
   ]
  },
  {
   "cell_type": "code",
   "execution_count": 151,
   "id": "8fc6348c-de00-4af3-a18e-ee196d47f9df",
   "metadata": {},
   "outputs": [
    {
     "name": "stdout",
     "output_type": "stream",
     "text": [
      "scissors\n",
      "paper\n",
      "scissors\n",
      "paper\n",
      "rock\n",
      "paper\n",
      "paper\n",
      "rock\n",
      "scissors\n",
      "paper\n",
      "paper\n",
      "paper\n",
      "scissors\n",
      "rock\n",
      "paper\n",
      "rock\n",
      "scissors\n",
      "scissors\n",
      "rock\n",
      "paper\n"
     ]
    }
   ],
   "source": [
    "l1 = ['rock','paper','scissors']\n",
    "for i in range(ntries):\n",
    "    print(random.choice(l1))"
   ]
  },
  {
   "cell_type": "code",
   "execution_count": 152,
   "id": "22ca61d3-6085-4765-ac2d-caa22b5cfc67",
   "metadata": {},
   "outputs": [
    {
     "name": "stdout",
     "output_type": "stream",
     "text": [
      "[5, 1, 8, 0, 4, 9, 7, 2, 3, 6]\n",
      "[6, 0, 7, 5, 4, 9, 1, 2, 3, 8]\n",
      "[6, 1, 0, 9, 3, 7, 4, 5, 2, 8]\n",
      "[4, 3, 9, 2, 6, 7, 8, 5, 0, 1]\n",
      "[9, 4, 0, 3, 5, 8, 1, 7, 6, 2]\n"
     ]
    }
   ],
   "source": [
    "l2 = [0,1,2,3,4,5,6,7,8,9]\n",
    "nshuffles = 5\n",
    "for i in range(nshuffles):\n",
    "    random.shuffle(l2)  # Note that l2 is changed here\n",
    "    print(l2)"
   ]
  },
  {
   "cell_type": "markdown",
   "id": "4f79f754-901e-4ca4-bf8d-feae26b0a99a",
   "metadata": {},
   "source": [
    "## Dungeons and Dragons dice"
   ]
  },
  {
   "cell_type": "code",
   "execution_count": 153,
   "id": "8c90acde-af45-4494-99f9-8a8e65f93e23",
   "metadata": {},
   "outputs": [],
   "source": [
    "d4 = lambda: random.randint(1,4)\n",
    "d6 = lambda: random.randint(1,6)\n",
    "d8 = lambda: random.randint(1,8)\n",
    "d10 = lambda: random.randint(1,10)\n",
    "d12 = lambda: random.randint(1,12)\n",
    "d20 = lambda: random.randint(1,20)"
   ]
  },
  {
   "cell_type": "code",
   "execution_count": 154,
   "id": "7248ed0e-0816-4c93-9631-9348a0142aec",
   "metadata": {},
   "outputs": [
    {
     "data": {
      "text/plain": [
       "1"
      ]
     },
     "execution_count": 154,
     "metadata": {},
     "output_type": "execute_result"
    }
   ],
   "source": [
    "d4()"
   ]
  },
  {
   "cell_type": "code",
   "execution_count": 155,
   "id": "06b35a3c-e984-4e37-8a78-93341bfb632a",
   "metadata": {},
   "outputs": [
    {
     "data": {
      "text/plain": [
       "5"
      ]
     },
     "execution_count": 155,
     "metadata": {},
     "output_type": "execute_result"
    }
   ],
   "source": [
    "d6()"
   ]
  },
  {
   "cell_type": "code",
   "execution_count": 156,
   "id": "ccde011a-a1e7-4cec-b42b-3bc154c678f6",
   "metadata": {},
   "outputs": [
    {
     "data": {
      "text/plain": [
       "17"
      ]
     },
     "execution_count": 156,
     "metadata": {},
     "output_type": "execute_result"
    }
   ],
   "source": [
    "d20()"
   ]
  },
  {
   "cell_type": "markdown",
   "id": "e6c904fa-7598-4169-adcd-8bd44f2add9d",
   "metadata": {},
   "source": [
    "## Numpy and random numbers\n",
    "\n",
    "As a core package for numerical computation in Python, Numpy offers a variety of functionality for using random numbers. Often\n",
    "this is array-oriented (as opposed to single valued as in the built-in random module). Some examples of useful functions include:\n",
    "\n",
    "  * np.random.random(size) - generate ``size`` random numbers uniformly in the range [0,1)\n",
    "  * np.random.randint(low,high,size) - generate ``size`` random integers uniformly in the range [low,high)\n",
    "  * np.random.normal(loc=0.0,scale=1.0,size=10) - generates ``size`` numbers from a normal/gaussian distribution centered at ``loc`` with standard devitation ``scale`` (note that use of the keywords is required)\n",
    "\n",
    "See the [full documentation](https://numpy.org/doc/2.1/reference/random/index.html#module-numpy.random) for more possibilities."
   ]
  },
  {
   "cell_type": "code",
   "execution_count": 157,
   "id": "8b1ca5e9-2532-4578-bb33-a6f2389c232d",
   "metadata": {},
   "outputs": [],
   "source": [
    "import numpy as np"
   ]
  },
  {
   "cell_type": "code",
   "execution_count": 158,
   "id": "cd110380-8a19-4d99-81c6-6e52b8b84426",
   "metadata": {},
   "outputs": [
    {
     "name": "stdout",
     "output_type": "stream",
     "text": [
      "[0.56469082 0.29333607 0.71044339 0.07749884 0.84186461 0.75611275\n",
      " 0.86205191 0.03609445 0.85895437 0.13891074]\n"
     ]
    }
   ],
   "source": [
    "print(np.random.random(10))"
   ]
  },
  {
   "cell_type": "code",
   "execution_count": 159,
   "id": "7be34199-9d8f-4f3f-b39b-168831e8dacf",
   "metadata": {},
   "outputs": [
    {
     "name": "stdout",
     "output_type": "stream",
     "text": [
      "[6 6 3 1 1 5 5 4 1 5]\n"
     ]
    }
   ],
   "source": [
    "print(np.random.randint(1,7,10))"
   ]
  },
  {
   "cell_type": "code",
   "execution_count": 160,
   "id": "83a855e4-f1e1-43b0-8097-231b36f83607",
   "metadata": {},
   "outputs": [
    {
     "name": "stdout",
     "output_type": "stream",
     "text": [
      "[ 0.25464606 -0.27558273 -0.49228012 -0.06069165 -0.15629141 -0.15586013\n",
      "  0.16393907 -1.30039329 -0.88031512  1.33405685]\n"
     ]
    }
   ],
   "source": [
    "print(np.random.normal(size=10))"
   ]
  }
 ],
 "metadata": {
  "kernelspec": {
   "display_name": "Python 3 (ipykernel)",
   "language": "python",
   "name": "python3"
  },
  "language_info": {
   "codemirror_mode": {
    "name": "ipython",
    "version": 3
   },
   "file_extension": ".py",
   "mimetype": "text/x-python",
   "name": "python",
   "nbconvert_exporter": "python",
   "pygments_lexer": "ipython3",
   "version": "3.13.3"
  }
 },
 "nbformat": 4,
 "nbformat_minor": 5
}
