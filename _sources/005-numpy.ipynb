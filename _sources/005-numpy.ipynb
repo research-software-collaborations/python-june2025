{
 "cells": [
  {
   "cell_type": "markdown",
   "id": "67717fa6-5a37-48ad-9f05-3295e4f28ccc",
   "metadata": {},
   "source": [
    "# Numpy\n",
    "\n",
    "The original goals for the development of Python were to make it easy to read and write and flexible for many different tasks. This is reflected\n",
    "in the easy to use, but powerful, dynamically typed data types like lists, dictionaries. Unfortunately that same flexibility is limiting in terms\n",
    "of raw computational performance. For this Python relies on dedicated libraries such as [Numpy](https://numpy.org) which provide array-based programming\n",
    "idioms for fast execution of numerical calculations on data.\n",
    "\n",
    "  There are many excellent tutorials out there on Numpy. For example, a succinct beginners guide is available from the Numpy website:\n",
    "\n",
    "  * [Numpy - Absolute Basics for Beginners](https://numpy.org/doc/stable/user/absolute_beginners.html)\n",
    "\n",
    "Other useful user documentation and tutorials can be found here:\n",
    "\n",
    "  * [Numpy User Guide (web version)](https://numpy.org/doc/stable/user/index.html) - [Numpy User Guide (pdf version)](https://docs.python.org/3/tutorial/)\n",
    "  * [Numpy Tutorials](https://numpy.org/numpy-tutorials/)\n",
    "\n",
    "Here we are just going to quickly review some basic and useful aspects of numpy which will help bootstrap people for the exercises. The links above are\n",
    "then a useful path to do more sophisticated things. For simplicity in this quick introduction/review we will focus mostly on the 1 dimensional case, but note that the package is much more powerful than that and supports multi-dimenstional arrays."
   ]
  },
  {
   "cell_type": "markdown",
   "id": "fd6b27da-6c90-47bd-8b14-62576c5c033f",
   "metadata": {},
   "source": [
    "## Creating Numpy Arrays"
   ]
  },
  {
   "cell_type": "markdown",
   "id": "69d17425-24f1-4bbc-a57a-b1d0a33a5c58",
   "metadata": {},
   "source": [
    "Numpy array can be initialized directly and explicitly as arrays:"
   ]
  },
  {
   "cell_type": "code",
   "execution_count": 2,
   "id": "ca17eb9a-cd37-4050-9516-080727eb5f1c",
   "metadata": {},
   "outputs": [
    {
     "name": "stdout",
     "output_type": "stream",
     "text": [
      "[1 2 3 4 5 6]\n"
     ]
    }
   ],
   "source": [
    "import numpy as np\n",
    "\n",
    "a1 = np.array([1, 2, 3, 4, 5, 6])\n",
    "print(a1)"
   ]
  },
  {
   "cell_type": "markdown",
   "id": "59d4a1c4-2e59-49f3-99ee-dc2e4defe816",
   "metadata": {},
   "source": [
    "Dedicated functions are available to create arrays of various types:"
   ]
  },
  {
   "cell_type": "code",
   "execution_count": 3,
   "id": "932278dd-3716-4d3e-ad32-7088457ff10b",
   "metadata": {},
   "outputs": [
    {
     "name": "stdout",
     "output_type": "stream",
     "text": [
      "[1. 1. 1. 1. 1. 1. 1. 1. 1. 1.]\n",
      "[0. 0. 0. 0. 0. 0. 0. 0. 0. 0.]\n"
     ]
    }
   ],
   "source": [
    "a2 = np.ones(10)   # all ones, the function argument is the array length\n",
    "print(a2)\n",
    "a3 = np.zeros(10)  # all zeroes, the function argument is the array length\n",
    "print(a3)"
   ]
  },
  {
   "cell_type": "markdown",
   "id": "391f17a7-2bc7-4f8f-bbe2-36e93976f0f2",
   "metadata": {},
   "source": [
    "One can also create an array by specifying a first number, last number and a step size.\n",
    "\n",
    "```python\n",
    "np.arange(start,stop,step)\n",
    "```\n",
    "\n",
    "Note that the rule here is \"up to, but not including, the \"stop\" value)"
   ]
  },
  {
   "cell_type": "code",
   "execution_count": 4,
   "id": "0a08caf0-bb6b-4e7d-aafa-60309e8ca5af",
   "metadata": {},
   "outputs": [
    {
     "name": "stdout",
     "output_type": "stream",
     "text": [
      "[0 2 4 6 8]\n"
     ]
    }
   ],
   "source": [
    "a4 = np.arange(0,10,2)\n",
    "print(a4)"
   ]
  },
  {
   "cell_type": "markdown",
   "id": "b2656cfa-a827-424f-83ac-3dd1d519d305",
   "metadata": {},
   "source": [
    "If one wants N values linearly spaced between an initial and a final value:\n",
    "\n",
    "```python\n",
    "np.linspace(first,last,number)\n",
    "```\n",
    "Note that in this case (unlike arange) the \"last\" value will be the final element."
   ]
  },
  {
   "cell_type": "code",
   "execution_count": 5,
   "id": "604ee6d8-ea5f-4c3a-9b0e-1c5ac0683ada",
   "metadata": {},
   "outputs": [
    {
     "name": "stdout",
     "output_type": "stream",
     "text": [
      "[ 0.          0.52631579  1.05263158  1.57894737  2.10526316  2.63157895\n",
      "  3.15789474  3.68421053  4.21052632  4.73684211  5.26315789  5.78947368\n",
      "  6.31578947  6.84210526  7.36842105  7.89473684  8.42105263  8.94736842\n",
      "  9.47368421 10.        ]\n"
     ]
    }
   ],
   "source": [
    "a5 = np.linspace(0.,10,20)\n",
    "print(a5)"
   ]
  },
  {
   "cell_type": "markdown",
   "id": "ea00ffc5-d165-47e0-be1f-3862bb25e179",
   "metadata": {},
   "source": [
    "## Math with Numpy Arrays"
   ]
  },
  {
   "cell_type": "markdown",
   "id": "97c345cc-6291-4951-85b1-dac437007a01",
   "metadata": {},
   "source": [
    "The powerful aspect of numpy is that one can do math with these arrays. Both via scalar operations:"
   ]
  },
  {
   "cell_type": "code",
   "execution_count": 6,
   "id": "f16285fe-607d-4ae0-b72e-048ce51e5224",
   "metadata": {},
   "outputs": [
    {
     "name": "stdout",
     "output_type": "stream",
     "text": [
      "[ 0.  1.  2.  3.  4.  5.  6.  7.  8.  9. 10. 11.]\n",
      "[ 0.  2.  4.  6.  8. 10. 12. 14. 16. 18. 20. 22.]\n",
      "[ 2.  4.  6.  8. 10. 12. 14. 16. 18. 20. 22. 24.]\n"
     ]
    }
   ],
   "source": [
    "b1 = np.linspace(0,11,12)\n",
    "print(b1)\n",
    "b2 = 2*b1\n",
    "print(b2)\n",
    "b3 = b2 + 2\n",
    "print(b3)"
   ]
  },
  {
   "cell_type": "markdown",
   "id": "3cb023ec-c0db-40be-8c66-ba59851a93f1",
   "metadata": {},
   "source": [
    "And via operations with different arrays (e.g. here element-wise addition):"
   ]
  },
  {
   "cell_type": "code",
   "execution_count": 7,
   "id": "c505aa23-1030-4631-843f-bf255c93ec11",
   "metadata": {},
   "outputs": [
    {
     "name": "stdout",
     "output_type": "stream",
     "text": [
      "[ 0.  3.  6.  9. 12. 15. 18. 21. 24. 27. 30. 33.]\n"
     ]
    }
   ],
   "source": [
    "b4 = b1 + b2\n",
    "print(b4)"
   ]
  },
  {
   "cell_type": "code",
   "execution_count": 8,
   "id": "c33a5783-54ec-45cf-9c3c-9bc4af00d078",
   "metadata": {},
   "outputs": [
    {
     "name": "stdout",
     "output_type": "stream",
     "text": [
      "[ 0.  1.  2.  3.  4.  5.  6.  7.  8.  9. 10. 11.]\n"
     ]
    }
   ],
   "source": [
    "b5 = b4 / 3\n",
    "print(b5)"
   ]
  },
  {
   "cell_type": "markdown",
   "id": "65c1063e-8402-4195-bc50-b9dc2a54b6ea",
   "metadata": {},
   "source": [
    "As we will see this can be useful for plotting functions, for example:"
   ]
  },
  {
   "cell_type": "code",
   "execution_count": 9,
   "id": "fd99f1fc-2222-4af0-a373-eddab6c7eb20",
   "metadata": {},
   "outputs": [
    {
     "name": "stdout",
     "output_type": "stream",
     "text": [
      "[0.         0.26315789 0.52631579 0.78947368 1.05263158 1.31578947\n",
      " 1.57894737 1.84210526 2.10526316 2.36842105 2.63157895 2.89473684\n",
      " 3.15789474 3.42105263 3.68421053 3.94736842 4.21052632 4.47368421\n",
      " 4.73684211 5.        ]\n",
      "[ 0.          0.06925208  0.27700831  0.6232687   1.10803324  1.73130194\n",
      "  2.49307479  3.3933518   4.43213296  5.60941828  6.92520776  8.37950139\n",
      "  9.97229917 11.70360111 13.5734072  15.58171745 17.72853186 20.01385042\n",
      " 22.43767313 25.        ]\n"
     ]
    }
   ],
   "source": [
    "x = np.linspace(0,5,20)\n",
    "y = x**2\n",
    "print(x)\n",
    "print(y)"
   ]
  },
  {
   "cell_type": "code",
   "execution_count": 10,
   "id": "aba48746-c17e-47cc-9d2f-c80d69b03ddc",
   "metadata": {},
   "outputs": [
    {
     "data": {
      "text/plain": [
       "[<matplotlib.lines.Line2D at 0x113a03110>]"
      ]
     },
     "execution_count": 10,
     "metadata": {},
     "output_type": "execute_result"
    },
    {
     "data": {
      "image/png": "[encoded data removed]",
      "text/plain": [
       "<Figure size 640x480 with 1 Axes>"
      ]
     },
     "metadata": {},
     "output_type": "display_data"
    }
   ],
   "source": [
    "import matplotlib.pyplot as plt\n",
    "plt.plot(x,y)"
   ]
  },
  {
   "cell_type": "markdown",
   "id": "c31d918c-d667-4595-acb7-d3fdf8f162a9",
   "metadata": {},
   "source": [
    "## Arrays of different shapes\n",
    "\n",
    "The example arrays we show here are primarily one dimensional, but Numpy is a generalized package supporting multi-dimensional arrays.\n",
    "\n",
    "(There are rules related to math with arrays of different sizes and shapes. We don't cover that aspect here, but see the documentation links above.)"
   ]
  },
  {
   "cell_type": "code",
   "execution_count": 11,
   "id": "e9cdde97-4176-44d1-ac78-9ad74346dfc9",
   "metadata": {},
   "outputs": [
    {
     "name": "stdout",
     "output_type": "stream",
     "text": [
      "[[0 1 2]\n",
      " [3 4 5]]\n",
      "The number of axes/dimensions of the array = 2\n",
      "The shape of the array = (2, 3)\n",
      "The size of the array = 6\n"
     ]
    }
   ],
   "source": [
    "a = np.array([[0,1,2],[3,4,5]])\n",
    "print(a)\n",
    "print(f'The number of axes/dimensions of the array = {a.ndim}')\n",
    "print(f'The shape of the array = {a.shape}')\n",
    "print(f'The size of the array = {a.size}')"
   ]
  },
  {
   "cell_type": "code",
   "execution_count": 12,
   "id": "fb302a1a-baec-453a-ad8d-d9d789ef67f9",
   "metadata": {},
   "outputs": [
    {
     "name": "stdout",
     "output_type": "stream",
     "text": [
      "[[0 1 2]\n",
      " [3 4 5]\n",
      " [6 7 8]]\n",
      "The number of axes/dimensions of the array = 2\n",
      "The shape of the array = (3, 3)\n",
      "The size of the array = 9\n"
     ]
    }
   ],
   "source": [
    "a = np.array([[0,1,2],[3,4,5],[6,7,8]])\n",
    "print(a)\n",
    "print(f'The number of axes/dimensions of the array = {a.ndim}')\n",
    "print(f'The shape of the array = {a.shape}')\n",
    "print(f'The size of the array = {a.size}')"
   ]
  },
  {
   "cell_type": "code",
   "execution_count": 13,
   "id": "4cfe66a8-b816-4742-a228-7b0e5cbde60f",
   "metadata": {},
   "outputs": [
    {
     "name": "stdout",
     "output_type": "stream",
     "text": [
      "[[0 1 2]\n",
      " [3 4 5]\n",
      " [6 7 8]]\n",
      "The number of axes/dimensions of the array = 2\n",
      "The shape of the array = (3, 3)\n",
      "The size of the array = 9\n"
     ]
    }
   ],
   "source": [
    "a = np.array([[0,1,2],[3,4,5],[6,7,8]])\n",
    "print(a)\n",
    "print(f'The number of axes/dimensions of the array = {a.ndim}')\n",
    "print(f'The shape of the array = {a.shape}')\n",
    "print(f'The size of the array = {a.size}')"
   ]
  },
  {
   "cell_type": "markdown",
   "id": "56ec3de3-ee93-4192-be00-c97c78bd2f69",
   "metadata": {},
   "source": [
    "It is also possible to use the arange(), linspace() and other functions to create 1-dimensional arrays and then reshape them to other shapes."
   ]
  },
  {
   "cell_type": "code",
   "execution_count": 14,
   "id": "f8a9f858-dc5e-4da7-8a6e-62614faf6e73",
   "metadata": {},
   "outputs": [
    {
     "name": "stdout",
     "output_type": "stream",
     "text": [
      "[0 1 2 3 4 5 6 7 8]\n",
      "[[0 1 2]\n",
      " [3 4 5]\n",
      " [6 7 8]]\n",
      "[[0. 0. 0.]\n",
      " [0. 0. 0.]\n",
      " [0. 0. 0.]]\n"
     ]
    }
   ],
   "source": [
    "a = np.arange(0,9)\n",
    "print(a)\n",
    "b = np.arange(0,9).reshape(3,3)\n",
    "print(b)\n",
    "c = np.zeros(9).reshape(3,3)\n",
    "print(c)"
   ]
  },
  {
   "cell_type": "markdown",
   "id": "f6bc3f72-bec6-436f-a4ca-f6b4c0d89bf9",
   "metadata": {},
   "source": [
    "## Accessing subsets of Numpy Arrays - \"Slicing\"\n",
    "\n",
    "An important and useful aspect of Numpy arrays is the ability to access subsets of the arrays (referred to as \"slicing\") in various ways:"
   ]
  },
  {
   "cell_type": "code",
   "execution_count": 15,
   "id": "63f5de46-e34a-4216-bacd-7daaa44b3b74",
   "metadata": {},
   "outputs": [
    {
     "name": "stdout",
     "output_type": "stream",
     "text": [
      "[0. 1. 2. 3. 4. 5.]\n"
     ]
    }
   ],
   "source": [
    "c1 = np.linspace(0,5,6)\n",
    "print(c1)"
   ]
  },
  {
   "cell_type": "markdown",
   "id": "7944c381-5d20-453a-943d-6b36a1ad0e76",
   "metadata": {},
   "source": [
    "The syntax for accessing a subset (slice) involves specifying a start index, a stop index and a step:\n",
    "\n",
    "```python\n",
    "    c1[start:stop:step]\n",
    "```\n",
    "\n",
    "The following rules apply:\n",
    "\n",
    "  * The index numbering assigns \"0\" to the first element (as in C/C++, not as in FORTRAN/Julia!) \n",
    "  * The step index is optional and assumed to be one if omitted.\n",
    "  * If stop is specified, the elements selected will be **\"up to, but not including, the element at the stop index\"**\n",
    "  * If the start element is not specified, elements will be included from the first element onwards.\n",
    "  * If the stop element is not specified, elements will be included up to and including the last element"
   ]
  },
  {
   "cell_type": "code",
   "execution_count": 16,
   "id": "521f86cc-7ae1-4d09-9d2c-015219b4e048",
   "metadata": {},
   "outputs": [
    {
     "name": "stdout",
     "output_type": "stream",
     "text": [
      "[0. 1.]\n",
      "[0. 1.]\n",
      "[0. 1. 2. 3. 4. 5.]\n",
      "[3. 4. 5.]\n"
     ]
    }
   ],
   "source": [
    "print(c1[0:2])\n",
    "print(c1[:2])    # will start from first element\n",
    "print(c1[0:])    # will go up to -and- include the last element\n",
    "print(c1[3:])    # start with the element index 3 and go up to -and- include the last element"
   ]
  },
  {
   "cell_type": "code",
   "execution_count": 17,
   "id": "3de49bb8-65b5-4070-aeb2-bfe6002ade9e",
   "metadata": {},
   "outputs": [
    {
     "name": "stdout",
     "output_type": "stream",
     "text": [
      "[0. 2. 4.]\n"
     ]
    }
   ],
   "source": [
    "print(c1[0:5:2])   # step by 3"
   ]
  },
  {
   "cell_type": "markdown",
   "id": "6fca065f-32c6-485a-b310-5a5e7aad0d4c",
   "metadata": {},
   "source": [
    "Negative indices can also be used, with \"-1\" being the last last element, \"-2\" the penultimate one, etc."
   ]
  },
  {
   "cell_type": "code",
   "execution_count": 18,
   "id": "ecea75e4-e8f3-4f52-9aea-5e379f1b8097",
   "metadata": {},
   "outputs": [
    {
     "name": "stdout",
     "output_type": "stream",
     "text": [
      "[3. 4.]\n"
     ]
    }
   ],
   "source": [
    "print(c1[3:-1])    # start with the element index 3 and go up to but not including the -1th (last) element"
   ]
  },
  {
   "cell_type": "markdown",
   "id": "38d0fad6-d8af-49fc-8ce9-6518a96dc9be",
   "metadata": {},
   "source": [
    "A negative step can be used to reverse the array:"
   ]
  },
  {
   "cell_type": "code",
   "execution_count": 19,
   "id": "01228e25-babd-49ed-8633-6afd2b60f109",
   "metadata": {},
   "outputs": [
    {
     "name": "stdout",
     "output_type": "stream",
     "text": [
      "[5. 4. 3. 2. 1. 0.]\n"
     ]
    }
   ],
   "source": [
    "print(c1[::-1])"
   ]
  },
  {
   "cell_type": "markdown",
   "id": "c381015f-49de-47f6-bac0-eb15aa43ded2",
   "metadata": {},
   "source": [
    "## Slicing with lists and strings\n",
    "\n",
    "Note that the slicing syntax can be applied also to other ordered data types such as lists and strings"
   ]
  },
  {
   "cell_type": "code",
   "execution_count": 20,
   "id": "b2bc8b6f-77a7-49bb-9be6-7e3802f6bc2b",
   "metadata": {},
   "outputs": [
    {
     "name": "stdout",
     "output_type": "stream",
     "text": [
      "['apple', 'orange']\n",
      "['banana', 'mango', 'orange', 'apple']\n"
     ]
    }
   ],
   "source": [
    "l1 = ['apple', 'orange', 'mango', 'banana']\n",
    "print(l1[0:2])\n",
    "print(l1[::-1])"
   ]
  },
  {
   "cell_type": "code",
   "execution_count": 21,
   "id": "d9a09282-6c0b-4abd-aac7-5ad424095590",
   "metadata": {},
   "outputs": [
    {
     "name": "stdout",
     "output_type": "stream",
     "text": [
      "Abra\n",
      "arbadacarbA\n"
     ]
    }
   ],
   "source": [
    "s1 = 'Abracadabra'\n",
    "print(s1[0:4])\n",
    "print(s1[::-1])"
   ]
  },
  {
   "cell_type": "markdown",
   "id": "883ee2f0-c4b0-4f31-a089-64eb91ba3c82",
   "metadata": {},
   "source": [
    "## Masks\n",
    "\n",
    "Once you have a numpy array, it is also possible to select elements according to some boolean condition."
   ]
  },
  {
   "cell_type": "code",
   "execution_count": 31,
   "id": "c511b2a4-dfa3-4529-a038-47d1eefdcd51",
   "metadata": {},
   "outputs": [
    {
     "data": {
      "text/plain": [
       "array([ 0,  1,  2,  3,  4,  5,  6,  7,  8,  9, 10])"
      ]
     },
     "execution_count": 31,
     "metadata": {},
     "output_type": "execute_result"
    }
   ],
   "source": [
    "a = np.arange(0,11)\n",
    "a"
   ]
  },
  {
   "cell_type": "code",
   "execution_count": 34,
   "id": "fd37bf32-3ff0-4c15-9059-825d459acb9a",
   "metadata": {},
   "outputs": [
    {
     "data": {
      "text/plain": [
       "array([ 6,  7,  8,  9, 10])"
      ]
     },
     "execution_count": 34,
     "metadata": {},
     "output_type": "execute_result"
    }
   ],
   "source": [
    "b = a[a>5]   # Select only elments whose value is greater than 5\n",
    "b"
   ]
  },
  {
   "cell_type": "markdown",
   "id": "8c83334d-2f3b-42ae-88a4-8cfab0f36425",
   "metadata": {},
   "source": [
    "The use of conditionals with Numpy arrays actually returns an array of boolean values whose indices correspond to the original array. A useful trick is to save this in a variable:"
   ]
  },
  {
   "cell_type": "code",
   "execution_count": 35,
   "id": "8406a533-cc5f-43dd-b745-65408123e5ef",
   "metadata": {},
   "outputs": [
    {
     "data": {
      "text/plain": [
       "array([False, False, False, False, False, False,  True,  True,  True,\n",
       "        True,  True])"
      ]
     },
     "execution_count": 35,
     "metadata": {},
     "output_type": "execute_result"
    }
   ],
   "source": [
    "mask = a > 5\n",
    "mask"
   ]
  },
  {
   "cell_type": "markdown",
   "id": "e56431e9-5e52-4097-af7e-7dbbac4191fc",
   "metadata": {},
   "source": [
    "This mask can be use as the original condition was used (though as a variable it is more flexible):"
   ]
  },
  {
   "cell_type": "code",
   "execution_count": 36,
   "id": "282c9cc4-f2b4-439c-b6e8-a229005d548e",
   "metadata": {},
   "outputs": [
    {
     "data": {
      "text/plain": [
       "array([ 6,  7,  8,  9, 10])"
      ]
     },
     "execution_count": 36,
     "metadata": {},
     "output_type": "execute_result"
    }
   ],
   "source": [
    "c = a[mask]\n",
    "c"
   ]
  },
  {
   "cell_type": "markdown",
   "id": "f2fa7e1c-196a-43b8-8c3c-4a5e416515bd",
   "metadata": {},
   "source": [
    "You can also use the mask to choose some elements of the array for assignment. A very useful feature is that the syntax ``~mask`` can also be used to chose the logical ``not`` of the mask. So here for example one can use the ``mask`` to set elements greater than 5 to 5 and the ``~mask`` to set the other elements to 0."
   ]
  },
  {
   "cell_type": "code",
   "execution_count": 37,
   "id": "beb60a77-afa3-42cb-91d2-fe1f6326ab12",
   "metadata": {},
   "outputs": [
    {
     "data": {
      "text/plain": [
       "array([0, 0, 0, 0, 0, 0, 5, 5, 5, 5, 5])"
      ]
     },
     "execution_count": 37,
     "metadata": {},
     "output_type": "execute_result"
    }
   ],
   "source": [
    "a[~mask] = 0\n",
    "a[mask] = 5\n",
    "a"
   ]
  }
 ],
 "metadata": {
  "kernelspec": {
   "display_name": "Python 3 (ipykernel)",
   "language": "python",
   "name": "python3"
  },
  "language_info": {
   "codemirror_mode": {
    "name": "ipython",
    "version": 3
   },
   "file_extension": ".py",
   "mimetype": "text/x-python",
   "name": "python",
   "nbconvert_exporter": "python",
   "pygments_lexer": "ipython3",
   "version": "3.13.3"
  }
 },
 "nbformat": 4,
 "nbformat_minor": 5
}
