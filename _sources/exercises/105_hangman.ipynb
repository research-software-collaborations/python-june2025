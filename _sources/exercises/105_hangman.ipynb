{
 "cells": [
  {
   "cell_type": "markdown",
   "id": "1a66a9c9-5603-4c59-bfd6-9436f8c59e97",
   "metadata": {},
   "source": [
    "# 105 - Hangman\n",
    "\n",
    "Implement a Python version of the classic [Hangman](https://en.wikipedia.org/wiki/Hangman_(game)) word guessing game. In addition to printing the status of\n",
    "the word being guessed (e.g. with \"*\" denoting letters not yet guessed) print one of the following ASCII art representations of the remaining guesses:\n",
    "\n",
    "```\n",
    "Number of errors:\n",
    "    0          1          2          3          4          5          6\n",
    "  +---+      +---+      +---+      +---+      +---+      +---+      +---+\n",
    "  |   |      |   |      |   |      |   |      |   |      |   |      |   |\n",
    "      |      0   |      0   |      0   |      0   |      0   |      0   |\n",
    "      |          |      |   |     /|   |     /|\\  |     /|\\  |     /|\\  |\n",
    "      |          |          |          |          |     /    |     / \\  |\n",
    "      |          |          |          |          |          |          |\n",
    "=========  =========  =========  =========  =========  =========  =========\n",
    "```\n",
    "\n",
    "Here 0 errors represents the initial state at the beginning of the game and 6 errors also represents **\"Game Over\"**.\n",
    "\n",
    "  Tips:\n",
    "  * Do this as a standalone python script, not as a Jupyter notebook.\n",
    "  * Create an initial version with a hardcoded list of 10 words, but then once it is working read in a longer list of words from a file that you have prepared.\n",
    "  * Don't forget to reveal the word at the end if the player gets to 6 errors and \"Game Over!\"\n",
    "\n",
    "To keep things simple, use the following brute force method (and code to create a dictionary) for dealing with the different multi-line ASCII Art representations. (The \"r\" before  the triple quote just tells the intepreter to treat it as a \"raw\" string and not interpret the \"\\\" as \"escaping\" the following character.) Add your own ASCII art text next to the various stages if you like.\n",
    "\n",
    "Can you think of more elegant or alternate ways to manage and display the ASCII Art?"
   ]
  },
  {
   "cell_type": "code",
   "execution_count": 24,
   "id": "2cbd95de-b859-4720-b971-6f9084636696",
   "metadata": {},
   "outputs": [],
   "source": [
    "aa = {}\n",
    "aa[0]=r'''\n",
    "  +---+\n",
    "  |   |\n",
    "      |\n",
    "      |\n",
    "      |\n",
    "      |\n",
    "=========\n",
    "'''\n",
    "aa[1]=r'''\n",
    "  +---+\n",
    "  |   |\n",
    "  0   |\n",
    "      |\n",
    "      |\n",
    "      |\n",
    "=========\n",
    "'''\n",
    "aa[2]=r'''\n",
    "  +---+\n",
    "  |   |\n",
    "  0   |\n",
    "  |   |\n",
    "      |\n",
    "      |\n",
    "=========\n",
    "'''\n",
    "aa[3]=r'''\n",
    "  +---+\n",
    "  |   |\n",
    "  0   |\n",
    " /|   |\n",
    "      |\n",
    "      |\n",
    "=========\n",
    "'''\n",
    "aa[4]=r'''\n",
    "  +---+\n",
    "  |   |\n",
    "  0   |\n",
    " /|\\  |\n",
    "      |\n",
    "      |\n",
    "=========\n",
    "'''\n",
    "aa[5]=r'''\n",
    "  +---+\n",
    "  |   |\n",
    "  0   |\n",
    " /|\\  |\n",
    " /    |\n",
    "      |\n",
    "=========\n",
    "'''\n",
    "aa[6]=r'''\n",
    "  +---+       ____                         ___\n",
    "  |   |      / ___| __ _ _ __ ___   ___   / _ \\__   _____ _ __\n",
    "  0   |     | |  _ / _` | '_ ` _ \\ / _ \\ | | | \\ \\ / / _ \\ '__|\n",
    " /|\\  |     | |_| | (_| | | | | | |  __/ | |_| |\\ V /  __/ |\n",
    " / \\  |      \\____|\\__,_|_| |_| |_|\\___|  \\___/  \\_/ \\___|_|\n",
    "      |\n",
    "=========\n",
    "'''"
   ]
  },
  {
   "cell_type": "code",
   "execution_count": 25,
   "id": "f3f1262f-1184-4bfa-a710-212cf901f596",
   "metadata": {},
   "outputs": [
    {
     "name": "stdout",
     "output_type": "stream",
     "text": [
      "\n",
      "  +---+\n",
      "  |   |\n",
      "  0   |\n",
      " /|   |\n",
      "      |\n",
      "      |\n",
      "=========\n",
      "\n"
     ]
    }
   ],
   "source": [
    "print(aa[3])"
   ]
  },
  {
   "cell_type": "code",
   "execution_count": 26,
   "id": "c86c4c6b-7e95-4b5a-b9f6-2d1484403f81",
   "metadata": {},
   "outputs": [
    {
     "name": "stdout",
     "output_type": "stream",
     "text": [
      "\n",
      "  +---+       ____                         ___\n",
      "  |   |      / ___| __ _ _ __ ___   ___   / _ \\__   _____ _ __\n",
      "  0   |     | |  _ / _` | '_ ` _ \\ / _ \\ | | | \\ \\ / / _ \\ '__|\n",
      " /|\\  |     | |_| | (_| | | | | | |  __/ | |_| |\\ V /  __/ |\n",
      " / \\  |      \\____|\\__,_|_| |_| |_|\\___|  \\___/  \\_/ \\___|_|\n",
      "      |\n",
      "=========\n",
      "\n"
     ]
    }
   ],
   "source": [
    "print(aa[6])"
   ]
  }
 ],
 "metadata": {
  "kernelspec": {
   "display_name": "Python 3 (ipykernel)",
   "language": "python",
   "name": "python3"
  },
  "language_info": {
   "codemirror_mode": {
    "name": "ipython",
    "version": 3
   },
   "file_extension": ".py",
   "mimetype": "text/x-python",
   "name": "python",
   "nbconvert_exporter": "python",
   "pygments_lexer": "ipython3",
   "version": "3.13.3"
  }
 },
 "nbformat": 4,
 "nbformat_minor": 5
}
