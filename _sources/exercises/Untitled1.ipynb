{
 "cells": [
  {
   "cell_type": "code",
   "execution_count": 1,
   "id": "fb233a40-aa95-40a3-8526-388250866539",
   "metadata": {},
   "outputs": [],
   "source": [
    "s = \"python\""
   ]
  },
  {
   "cell_type": "code",
   "execution_count": 2,
   "id": "5a77edbd-da00-4e27-bf80-d48ac7e19321",
   "metadata": {},
   "outputs": [
    {
     "data": {
      "text/plain": [
       "'y'"
      ]
     },
     "execution_count": 2,
     "metadata": {},
     "output_type": "execute_result"
    }
   ],
   "source": [
    "s[1]"
   ]
  },
  {
   "cell_type": "code",
   "execution_count": 3,
   "id": "d19667b4-9d2a-48c3-86d0-732131ea3d33",
   "metadata": {},
   "outputs": [
    {
     "name": "stdout",
     "output_type": "stream",
     "text": [
      "Gotcha\n"
     ]
    }
   ],
   "source": [
    "if \"y\" in s:\n",
    "    print(\"Gotcha\")\n",
    "else:\n",
    "    print(\"No Gotcha\")"
   ]
  },
  {
   "cell_type": "code",
   "execution_count": null,
   "id": "4a70eabb-c504-4199-859f-4c9d12191556",
   "metadata": {},
   "outputs": [],
   "source": []
  }
 ],
 "metadata": {
  "kernelspec": {
   "display_name": "Python 3 (ipykernel)",
   "language": "python",
   "name": "python3"
  },
  "language_info": {
   "codemirror_mode": {
    "name": "ipython",
    "version": 3
   },
   "file_extension": ".py",
   "mimetype": "text/x-python",
   "name": "python",
   "nbconvert_exporter": "python",
   "pygments_lexer": "ipython3",
   "version": "3.13.3"
  }
 },
 "nbformat": 4,
 "nbformat_minor": 5
}
