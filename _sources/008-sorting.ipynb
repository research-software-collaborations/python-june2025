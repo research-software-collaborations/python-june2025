{
 "cells": [
  {
   "cell_type": "markdown",
   "id": "13c17687-817e-4076-8b38-6568996b0ef5",
   "metadata": {},
   "source": [
    "# Sorting things\n",
    "\n",
    "A functionality which comes up often is the need to sort things. Here we give some examples of doing this for\n",
    "the various data types."
   ]
  },
  {
   "cell_type": "markdown",
   "id": "f6300397-8ede-445d-b5a0-ab1f7e0a3f0a",
   "metadata": {},
   "source": [
    "## Sorting a list"
   ]
  },
  {
   "cell_type": "code",
   "execution_count": 12,
   "id": "03ab2c33-2b6e-4a61-9b7f-7a81377c6b94",
   "metadata": {},
   "outputs": [
    {
     "name": "stdout",
     "output_type": "stream",
     "text": [
      "original = [61, 95, 86, 66, 42, 16, 26, 49, 58, 43, 18, 65, 95, 29, 81, 25, 53, 40, 53, 20, 95]\n",
      "sorted = [16, 18, 20, 25, 26, 29, 40, 42, 43, 49, 53, 53, 58, 61, 65, 66, 81, 86, 95, 95, 95]\n"
     ]
    }
   ],
   "source": [
    "# Make a random list of ints\n",
    "import random\n",
    "l = []\n",
    "for i in range(21):\n",
    "    l.append(random.randint(1,100))\n",
    "print(f'Original = {l}')\n",
    "l = sorted(l)\n",
    "print(f'Sorted = {l}')"
   ]
  },
  {
   "cell_type": "code",
   "execution_count": 16,
   "id": "441988c3-62de-4c5b-a632-6a24a0720bd6",
   "metadata": {},
   "outputs": [
    {
     "name": "stdout",
     "output_type": "stream",
     "text": [
      "Alphabet: ['A', 'B', 'C', 'D', 'E', 'F', 'G', 'H', 'I', 'J', 'K', 'L', 'M', 'N', 'O', 'P', 'Q', 'R', 'S', 'T', 'U', 'V', 'W', 'X', 'Y', 'Z']\n",
      "Original: ['C', 'A', 'W', 'E', 'O', 'T', 'N', 'R', 'Z', 'G', 'T', 'F', 'W', 'M', 'V', 'Q', 'Q', 'P', 'N', 'V', 'L']\n",
      "Sorted: ['A', 'C', 'E', 'F', 'G', 'L', 'M', 'N', 'N', 'O', 'P', 'Q', 'Q', 'R', 'T', 'T', 'V', 'V', 'W', 'W', 'Z']\n"
     ]
    }
   ],
   "source": [
    "# Make a list of all capital letters\n",
    "s = 'ABCDEFGHIJKLMNOPQRSTUVWXYZ'\n",
    "letters = []\n",
    "for letter in s:\n",
    "    letters.append(letter)\n",
    "print(f'Alphabet: {letters}')\n",
    "# Choose randomly from it and make another list\n",
    "l1 = []\n",
    "for i in range(21):\n",
    "    l1.append(random.choice(letters)) \n",
    "print(f'Original: {l1}')\n",
    "l2 = sorted(l1)\n",
    "print(f'Sorted: {l2}')"
   ]
  },
  {
   "cell_type": "markdown",
   "id": "e60bd1a3-ff3d-4854-9cde-73cfb5d6e252",
   "metadata": {},
   "source": [
    "## Sort a dictionary\n",
    "\n",
    "Create an ordered dictionary (both keys and values):"
   ]
  },
  {
   "cell_type": "code",
   "execution_count": 42,
   "id": "02f9c949-0769-42f3-a40a-2951fe35d566",
   "metadata": {},
   "outputs": [],
   "source": [
    "d = {'A': 5,\n",
    "     'E': 1, \n",
    "     'B': 2, \n",
    "     'F': 9, \n",
    "     'C': 1, \n",
    "     'G': 3, \n",
    "     'D': 0, \n",
    "     'H': 4\n",
    "    }"
   ]
  },
  {
   "cell_type": "markdown",
   "id": "b76bb251-3658-4f82-8c9d-a67357bc3fa0",
   "metadata": {},
   "source": [
    "Sorting by keys is simple and is almost what you would expect from the list examples above. The change\n",
    "is that running ``sorted()`` with a dictionary argument returns a list of key/value pairs:"
   ]
  },
  {
   "cell_type": "code",
   "execution_count": 43,
   "id": "34831132-280e-486f-8475-82c415618b8c",
   "metadata": {},
   "outputs": [
    {
     "name": "stdout",
     "output_type": "stream",
     "text": [
      "[('A', 5), ('B', 2), ('C', 1), ('D', 0), ('E', 1), ('F', 9), ('G', 3), ('H', 4)]\n"
     ]
    }
   ],
   "source": [
    "print(sorted(d.items()))"
   ]
  },
  {
   "cell_type": "markdown",
   "id": "c6f08aae-78cb-4dea-8158-54d2b935e6a1",
   "metadata": {},
   "source": [
    "So you need to create a dict again by passing that list to ``dict()``:"
   ]
  },
  {
   "cell_type": "code",
   "execution_count": 33,
   "id": "c2b4fca4-eb73-4b45-b3ca-a3dfa92d5f5a",
   "metadata": {},
   "outputs": [
    {
     "name": "stdout",
     "output_type": "stream",
     "text": [
      "Original: {'A': 5, 'E': 1, 'B': 2, 'F': 9, 'C': 1, 'G': 3, 'D': 0, 'H': 4}\n",
      "Sorted: {'A': 5, 'B': 2, 'C': 1, 'D': 0, 'E': 1, 'F': 9, 'G': 3, 'H': 4}\n"
     ]
    }
   ],
   "source": [
    "d_sorted = dict(sorted(d.items()))\n",
    "print(f'Original: {d}')\n",
    "print(f'Sorted: {d_sorted}')"
   ]
  },
  {
   "cell_type": "markdown",
   "id": "36304d8f-8bc9-4d6b-900d-ef8429620a36",
   "metadata": {},
   "source": [
    "Sorting by the **values** is a little trickier. One has recognize that recall that ``d.items()`` returns a list of tuples:"
   ]
  },
  {
   "cell_type": "code",
   "execution_count": 46,
   "id": "922ae2f0-6d81-4a0e-a3d3-2e25a8bdae59",
   "metadata": {},
   "outputs": [
    {
     "name": "stdout",
     "output_type": "stream",
     "text": [
      "[('A', 5), ('E', 1), ('B', 2), ('F', 9), ('C', 1), ('G', 3), ('D', 0), ('H', 4)]\n",
      "item is <class 'dict'> with item[0]='A' and item[1]=5\n",
      "item is <class 'dict'> with item[0]='E' and item[1]=1\n",
      "item is <class 'dict'> with item[0]='B' and item[1]=2\n",
      "item is <class 'dict'> with item[0]='F' and item[1]=9\n",
      "item is <class 'dict'> with item[0]='C' and item[1]=1\n",
      "item is <class 'dict'> with item[0]='G' and item[1]=3\n",
      "item is <class 'dict'> with item[0]='D' and item[1]=0\n",
      "item is <class 'dict'> with item[0]='H' and item[1]=4\n"
     ]
    }
   ],
   "source": [
    "print(list(d.items()))\n",
    "for item in d.items():\n",
    "    print(f'item is {type(d)} with {item[0]=} and {item[1]=}')"
   ]
  },
  {
   "cell_type": "markdown",
   "id": "e33db813-00f9-43f1-9311-962a27c1a29c",
   "metadata": {},
   "source": [
    "What sorted will by default do (and did above in the example with sorting dictionary keys) is sort on the first\n",
    "element of the tuples. It only look at the 2nd element if the 1st one is identical, but by construction that doesn't \n",
    "happen when the list of tuples is returned as key/value pairs from calling ``items() on a dictionary since keys are\n",
    "unique.\n",
    "\n",
    "So what we need to do is tell ``sorted()`` to use the 2nd element in the tuple (``item[1]``). We won't explain the\n",
    "full detail here, but this is done via passing a function (here a sort-of \"inline\" caleld a \"lambda\") as an additional argument to ``sorted()``. We add also ``reverse=True`` as an additional option in this example.\n",
    "\n",
    "So, long story short, one needs to do:"
   ]
  },
  {
   "cell_type": "code",
   "execution_count": 44,
   "id": "636f5f40-0ce4-4a45-a9ea-086fceee8909",
   "metadata": {},
   "outputs": [
    {
     "name": "stdout",
     "output_type": "stream",
     "text": [
      "Original: {'A': 5, 'E': 1, 'B': 2, 'F': 9, 'C': 1, 'G': 3, 'D': 0, 'H': 4}\n",
      "Sorted: {'F': 9, 'A': 5, 'H': 4, 'G': 3, 'B': 2, 'E': 1, 'C': 1, 'D': 0}\n"
     ]
    }
   ],
   "source": [
    "d_sorted = dict(sorted(d.items(), key=lambda item: item[1], reverse=True))\n",
    "print(f'Original: {d}')\n",
    "print(f'Sorted: {d_sorted}')"
   ]
  },
  {
   "cell_type": "markdown",
   "id": "2c05c7a0-b6f6-4988-b868-a53e461597c4",
   "metadata": {},
   "source": [
    "## Sorting in Numpy"
   ]
  },
  {
   "cell_type": "code",
   "execution_count": 45,
   "id": "8b19ce4b-7920-4491-8085-ecb89031026e",
   "metadata": {},
   "outputs": [],
   "source": [
    "#  TO ADD"
   ]
  },
  {
   "cell_type": "code",
   "execution_count": null,
   "id": "d7988958-fc72-424d-b2de-7fc2f5c2cb51",
   "metadata": {},
   "outputs": [],
   "source": []
  }
 ],
 "metadata": {
  "kernelspec": {
   "display_name": "Python 3 (ipykernel)",
   "language": "python",
   "name": "python3"
  },
  "language_info": {
   "codemirror_mode": {
    "name": "ipython",
    "version": 3
   },
   "file_extension": ".py",
   "mimetype": "text/x-python",
   "name": "python",
   "nbconvert_exporter": "python",
   "pygments_lexer": "ipython3",
   "version": "3.13.3"
  }
 },
 "nbformat": 4,
 "nbformat_minor": 5
}
