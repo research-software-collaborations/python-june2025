{
 "cells": [
  {
   "cell_type": "markdown",
   "id": "198ef675-5f70-4522-a0d6-a63e585ea99c",
   "metadata": {},
   "source": [
    "# Data Input and Files"
   ]
  },
  {
   "cell_type": "markdown",
   "id": "23a09712-7216-456d-8ee3-0d3ef5e4bfc1",
   "metadata": {},
   "source": [
    "Reading and writing files is critical for any problems you are trying to solve which involve data of some type (scientific, configuration, etc.)\n",
    "Fortunately Python is well supported with libraries to read and write a wide variety of data formats."
   ]
  },
  {
   "cell_type": "markdown",
   "id": "01f81a68-3784-4259-9853-d81b31d530bc",
   "metadata": {},
   "source": [
    "## Input from the keyboard\n",
    "\n",
    "You can get input from the keyboard with the input() function.\n",
    "\n",
    "```python\n",
    "answer = input('What is your name?')\n",
    "print(f'Hello {answer}!')\n",
    "```\n",
    "\n",
    "```\n",
    "What is your name? Santa Claus\n",
    "Hello Santa Claus!\n",
    "```"
   ]
  },
  {
   "cell_type": "markdown",
   "id": "1537264a-6488-4fe8-8275-bc340bfdbf9c",
   "metadata": {},
   "source": [
    "## (Structured) Text files\n",
    "\n",
    "Simple text files are useful and very common for small/medium-sized datasets, configuration files, etc. Text based formats can also easily be inspected via a text editor. Such files can be just raw text, or structured in some fashion like CSV, YAML or JSON. (HTML and CSS files on the web are also examples, but less useful as for data-science/scientific purposes).\n",
    "\n",
    "You can often find text files as the standard option for downloading data from various online databases, e.g.\n",
    "  * [NSF Award database](https://www.nsf.gov/awardsearch/advancedSearch.jsp) - offers options to download as CSV files\n",
    "  * [HEPData](https://www.hepdata.net) - an online open access database of data associated with HEP publications, traditionally the data from plots and tables in CSV, JSON (and ROOT) formats, but also more recently from things like [likelihoods](https://www.epj-conferences.org/articles/epjconf/abs/2020/21/epjconf_chep2020_06017/epjconf_chep2020_06017.html)\n",
    "\n",
    "Opening such files is very simple in Python, either from the core language (simple text files) or via standard libraries (CSV, YAML, JSON). The standard \n",
    "way to do this is in Python is with the 'with...as' syntax, using a so-called \n",
    "\"context manager\". The file will be opened and all of the associated indented code will be executed. You do **not** need to \"close\"\n",
    "the file as you may have done in other programming contexts. The \"context manager\" with do that automatically.\n",
    "\n",
    "Here we open a simple text file for writing with 'w'. Alternatively we could open a file for 'r', but the more interesting cases for that are when one reads structured data (csv, yaml, json) as described below."
   ]
  },
  {
   "cell_type": "code",
   "execution_count": 56,
   "id": "c240b029-27d0-4fcb-9814-d9533b746f1a",
   "metadata": {},
   "outputs": [],
   "source": [
    "with open('example.txt','w') as f:\n",
    "    f.write('Hello World!')"
   ]
  },
  {
   "cell_type": "markdown",
   "id": "75f6da50-fc8c-4225-b09b-2a91062ff35c",
   "metadata": {},
   "source": [
    "### CSV files\n",
    "\n",
    "CSV files are very common in the data science world as a structured (text) data formats. \n",
    "\n",
    "\n",
    "The basic structure involves \"rows\" and \"columns\", where each row represents an entry of interest and the corresponding columns contain different attributes associated with that entry. The first row is usually the \"header\" with labels for the columns and the first row sometimes contains an \"index\".\n",
    "These can be opened an examined row by row. For example, a CSV (with a header, but no index) for the [Seven Dwarfs](https://en.wikipedia.org/wiki/Seven_Dwarfs) would be:"
   ]
  },
  {
   "cell_type": "code",
   "execution_count": 57,
   "id": "79a5649d-9af7-4fdf-b6ca-25ea80c1b32f",
   "metadata": {},
   "outputs": [
    {
     "name": "stdout",
     "output_type": "stream",
     "text": [
      "Name,Hair Color,Beard,Height (cm)\n",
      "Doc,Gray,True,120\n",
      "Grumpy,White,True,118\n",
      "Happy,Brown,True,115\n",
      "Sleepy,Blonde,True,117\n",
      "Bashful,Black,True,116\n",
      "Sneezy,Red,True,114\n",
      "Dopey,Bald,False,113\n"
     ]
    }
   ],
   "source": [
    "!cat assets/seven_dwarfs.csv"
   ]
  },
  {
   "cell_type": "code",
   "execution_count": 58,
   "id": "378c409a-749b-4b28-8042-c5e93fec0111",
   "metadata": {},
   "outputs": [
    {
     "name": "stdout",
     "output_type": "stream",
     "text": [
      "['Name', 'Hair Color', 'Beard', 'Height (cm)']\n",
      "['Doc', 'Gray', 'True', '120']\n",
      "['Grumpy', 'White', 'True', '118']\n",
      "['Happy', 'Brown', 'True', '115']\n",
      "['Sleepy', 'Blonde', 'True', '117']\n",
      "['Bashful', 'Black', 'True', '116']\n",
      "['Sneezy', 'Red', 'True', '114']\n",
      "['Dopey', 'Bald', 'False', '113']\n"
     ]
    }
   ],
   "source": [
    "import csv\n",
    "with open('assets/seven_dwarfs.csv', mode ='r')as file:\n",
    "  csvFile = csv.reader(file)\n",
    "  for lines in csvFile:\n",
    "        print(lines)"
   ]
  },
  {
   "cell_type": "markdown",
   "id": "81bcc854-f6cb-463d-b584-5f27f24f4b50",
   "metadata": {},
   "source": [
    "However the most common method for opening and accessing data from CSV files is via the [Pandas library](https://pandas.pydata.org/docs/reference/api/pandas.read_csv.html) into a Pandas dataframe."
   ]
  },
  {
   "cell_type": "code",
   "execution_count": 59,
   "id": "0c289211-bc03-4b07-a046-be5c420e7fd7",
   "metadata": {},
   "outputs": [
    {
     "data": {
      "text/html": [
       "<div>\n",
       "<style scoped>\n",
       "    .dataframe tbody tr th:only-of-type {\n",
       "        vertical-align: middle;\n",
       "    }\n",
       "\n",
       "    .dataframe tbody tr th {\n",
       "        vertical-align: top;\n",
       "    }\n",
       "\n",
       "    .dataframe thead th {\n",
       "        text-align: right;\n",
       "    }\n",
       "</style>\n",
       "<table border=\"1\" class=\"dataframe\">\n",
       "  <thead>\n",
       "    <tr style=\"text-align: right;\">\n",
       "      <th></th>\n",
       "      <th>Name</th>\n",
       "      <th>Hair Color</th>\n",
       "      <th>Beard</th>\n",
       "      <th>Height (cm)</th>\n",
       "    </tr>\n",
       "  </thead>\n",
       "  <tbody>\n",
       "    <tr>\n",
       "      <th>0</th>\n",
       "      <td>Doc</td>\n",
       "      <td>Gray</td>\n",
       "      <td>True</td>\n",
       "      <td>120</td>\n",
       "    </tr>\n",
       "    <tr>\n",
       "      <th>1</th>\n",
       "      <td>Grumpy</td>\n",
       "      <td>White</td>\n",
       "      <td>True</td>\n",
       "      <td>118</td>\n",
       "    </tr>\n",
       "    <tr>\n",
       "      <th>2</th>\n",
       "      <td>Happy</td>\n",
       "      <td>Brown</td>\n",
       "      <td>True</td>\n",
       "      <td>115</td>\n",
       "    </tr>\n",
       "    <tr>\n",
       "      <th>3</th>\n",
       "      <td>Sleepy</td>\n",
       "      <td>Blonde</td>\n",
       "      <td>True</td>\n",
       "      <td>117</td>\n",
       "    </tr>\n",
       "    <tr>\n",
       "      <th>4</th>\n",
       "      <td>Bashful</td>\n",
       "      <td>Black</td>\n",
       "      <td>True</td>\n",
       "      <td>116</td>\n",
       "    </tr>\n",
       "    <tr>\n",
       "      <th>5</th>\n",
       "      <td>Sneezy</td>\n",
       "      <td>Red</td>\n",
       "      <td>True</td>\n",
       "      <td>114</td>\n",
       "    </tr>\n",
       "    <tr>\n",
       "      <th>6</th>\n",
       "      <td>Dopey</td>\n",
       "      <td>Bald</td>\n",
       "      <td>False</td>\n",
       "      <td>113</td>\n",
       "    </tr>\n",
       "  </tbody>\n",
       "</table>\n",
       "</div>"
      ],
      "text/plain": [
       "      Name Hair Color  Beard  Height (cm)\n",
       "0      Doc       Gray   True          120\n",
       "1   Grumpy      White   True          118\n",
       "2    Happy      Brown   True          115\n",
       "3   Sleepy     Blonde   True          117\n",
       "4  Bashful      Black   True          116\n",
       "5   Sneezy        Red   True          114\n",
       "6    Dopey       Bald  False          113"
      ]
     },
     "execution_count": 59,
     "metadata": {},
     "output_type": "execute_result"
    }
   ],
   "source": [
    "import pandas as pd\n",
    "df = pd.read_csv('assets/seven_dwarfs.csv')\n",
    "df"
   ]
  },
  {
   "cell_type": "markdown",
   "id": "665012e9-8ad4-4784-a273-42cc033a4eb0",
   "metadata": {},
   "source": [
    "### YAML files\n",
    "\n",
    "YAML files are simple structured data files, most often used to contain configuration information and/or web configuration (e.g. \"frontmatter\" in [jekyll markdown files](https://jekyllrb.com/docs/front-matter/)). It is simple to use (read, write) for limited basic structured data, but should be avoided for\n",
    "complicated or large data structures.\n",
    "\n",
    "In the following example, the file will be loaded as a Python dict with just one key (\"dwarfs\"). That key accesses a list of dicts, one per dwarf."
   ]
  },
  {
   "cell_type": "code",
   "execution_count": 60,
   "id": "eace5686-0abe-4602-bf8d-09fc695de75c",
   "metadata": {},
   "outputs": [
    {
     "name": "stdout",
     "output_type": "stream",
     "text": [
      "dwarfs:\n",
      "  - name: Doc\n",
      "    role: Leader\n",
      "    beard: true\n",
      "    height_cm: 120\n",
      "    favorite_color: blue\n",
      "\n",
      "  - name: Grumpy\n",
      "    role: Complainer\n",
      "    beard: true\n",
      "    height_cm: 118\n",
      "    favorite_color: red\n",
      "\n",
      "  - name: Happy\n",
      "    role: Cheerful\n",
      "    beard: true\n",
      "    height_cm: 115\n",
      "    favorite_color: yellow\n",
      "\n",
      "  - name: Sleepy\n",
      "    role: Tired\n",
      "    beard: true\n",
      "    height_cm: 117\n",
      "    favorite_color: gray\n",
      "\n",
      "  - name: Bashful\n",
      "    role: Shy\n",
      "    beard: true\n",
      "    height_cm: 116\n",
      "    favorite_color: pink\n",
      "\n",
      "  - name: Sneezy\n",
      "    role: Allergic\n",
      "    beard: true\n",
      "    height_cm: 114\n",
      "    favorite_color: green\n",
      "\n",
      "  - name: Dopey\n",
      "    role: Silent\n",
      "    beard: false\n",
      "    height_cm: 113\n",
      "    favorite_color: purple\n"
     ]
    }
   ],
   "source": [
    "!cat assets/seven_dwarfs.yml"
   ]
  },
  {
   "cell_type": "code",
   "execution_count": 61,
   "id": "89b4c4d1-7203-4477-ae8d-8123fe6cd637",
   "metadata": {},
   "outputs": [
    {
     "name": "stdout",
     "output_type": "stream",
     "text": [
      "Doc is the Leader one.\n",
      "Grumpy is the Complainer one.\n",
      "Happy is the Cheerful one.\n",
      "Sleepy is the Tired one.\n",
      "Bashful is the Shy one.\n",
      "Sneezy is the Allergic one.\n",
      "Dopey is the Silent one.\n"
     ]
    }
   ],
   "source": [
    "import yaml\n",
    "\n",
    "# Load in the data\n",
    "with open(\"assets/seven_dwarfs.yml\", \"r\") as file:\n",
    "    data = yaml.safe_load(file)\n",
    "\n",
    "# Print something about each dwarf\n",
    "for dwarf in data[\"dwarfs\"]:\n",
    "    print(f\"{dwarf['name']} is the {dwarf['role']} one.\")"
   ]
  },
  {
   "cell_type": "markdown",
   "id": "da4c6ff7-b2d8-46b2-bfc8-14b6078571e5",
   "metadata": {},
   "source": [
    "### JSON file\n",
    "\n",
    "JSON (JavaScript Object Notation) files grew out of the need to exchange large amounts of data in a web (server, client/browser) environment. JSON files can handle jagged and/or varying length data."
   ]
  },
  {
   "cell_type": "code",
   "execution_count": 62,
   "id": "7a74ff04-b0b0-43f5-861e-35d3e55c8cab",
   "metadata": {},
   "outputs": [
    {
     "name": "stdout",
     "output_type": "stream",
     "text": [
      "{\n",
      "  \"dwarfs\": [\n",
      "    {\n",
      "      \"name\": \"Doc\",\n",
      "      \"role\": \"Leader\",\n",
      "      \"beard\": true,\n",
      "      \"height_cm\": 120,\n",
      "      \"favorite_color\": \"blue\"\n",
      "    },\n",
      "    {\n",
      "      \"name\": \"Grumpy\",\n",
      "      \"role\": \"Complainer\",\n",
      "      \"beard\": true,\n",
      "      \"height_cm\": 118,\n",
      "      \"favorite_color\": \"red\"\n",
      "    },\n",
      "    {\n",
      "      \"name\": \"Happy\",\n",
      "      \"role\": \"Cheerful\",\n",
      "      \"beard\": true,\n",
      "      \"height_cm\": 115,\n",
      "      \"favorite_color\": \"yellow\"\n",
      "    },\n",
      "    {\n",
      "      \"name\": \"Sleepy\",\n",
      "      \"role\": \"Tired\",\n",
      "      \"beard\": true,\n",
      "      \"height_cm\": 117,\n",
      "      \"favorite_color\": \"gray\"\n",
      "    },\n",
      "    {\n",
      "      \"name\": \"Bashful\",\n",
      "      \"role\": \"Shy\",\n",
      "      \"beard\": true,\n",
      "      \"height_cm\": 116,\n",
      "      \"favorite_color\": \"pink\"\n",
      "    },\n",
      "    {\n",
      "      \"name\": \"Sneezy\",\n",
      "      \"role\": \"Allergic\",\n",
      "      \"beard\": true,\n",
      "      \"height_cm\": 114,\n",
      "      \"favorite_color\": \"green\"\n",
      "    },\n",
      "    {\n",
      "      \"name\": \"Dopey\",\n",
      "      \"role\": \"Silent\",\n",
      "      \"beard\": false,\n",
      "      \"height_cm\": 113,\n",
      "      \"favorite_color\": \"purple\"\n",
      "    }\n",
      "  ]\n",
      "}\n"
     ]
    }
   ],
   "source": [
    "!cat assets/seven_dwarfs.json"
   ]
  },
  {
   "cell_type": "code",
   "execution_count": 63,
   "id": "f4517f5e-5722-4886-bf7a-daa22469cd2e",
   "metadata": {},
   "outputs": [
    {
     "name": "stdout",
     "output_type": "stream",
     "text": [
      "Doc has a beard\n",
      "Grumpy has a beard\n",
      "Happy has a beard\n",
      "Sleepy has a beard\n",
      "Bashful has a beard\n",
      "Sneezy has a beard\n",
      "Dopey does not have a beard\n"
     ]
    }
   ],
   "source": [
    "import json\n",
    "\n",
    "# Load in the data\n",
    "with open('assets/seven_dwarfs.json', 'r') as f:\n",
    "    data = json.load(f)\n",
    "\n",
    "# Print each dwarf's name\n",
    "for dwarf in data[\"dwarfs\"]:\n",
    "    if (dwarf['beard']):\n",
    "        print(f'{dwarf[\"name\"]} has a beard')\n",
    "    else:\n",
    "        print(f'{dwarf[\"name\"]} does not have a beard')"
   ]
  },
  {
   "cell_type": "markdown",
   "id": "a638d49c-fb69-4c75-8ca6-98adb995d3aa",
   "metadata": {},
   "source": [
    "## Binary files\n",
    "\n",
    "In data-intensive fields where data volumes can get large and I/O speed becomes important, text files are limiting and other formats are often used, such as (non-text) \"binary\" formats and various (sometimes customizable) data compression algorithms may be involved. Some examples include:\n",
    "\n",
    "  * **ROOT files** - This is a very common format (from the [ROOT data analysis framework](https://root.cern)) used widely in particle, nuclear and astroparticle physics. They can be opened and manipulated in Python using the [uproot](https://uproot.readthedocs.io/en/stable/basic.html) library. Uproot is often used with [Awkward Array](https://awkward-array.org/doc/main/getting-started/index.html) to read and access jagged arrays. We will be discussing uproot, ROOT files and Awkward Array in the other HEP-specific parts of this workshop.\n",
    "  * **Parquet files** - as the larger data science community outgrew CSV files, they also needed a binary space-efficient data storage format. [Apache Parquet](https://arrow.apache.org/docs/python/parquet.html) has been developed to fill that niche and is well integrated with (for example) Pandas.\n",
    "  * **HDF5 files** - Hierarchical Data Format (HDF) files were originally developed with the high performance computing community (at NCSA) and the latest version, HDF5, has been adopted by a number of other scientific domains as well as garnered some [interest within the high energy physics community](https://www.hdfgroup.org/wp-content/uploads/2021/10/The-Story-of-HDF5-in-High-Energy-Physics.pdf). The [h5py package](https://docs.h5py.org/en/stable/) provides a pythonic interface to HDF5 files."
   ]
  },
  {
   "cell_type": "code",
   "execution_count": null,
   "id": "dd512a4b-6163-4939-bf0a-8e168e9db299",
   "metadata": {},
   "outputs": [],
   "source": []
  }
 ],
 "metadata": {
  "kernelspec": {
   "display_name": "Python 3 (ipykernel)",
   "language": "python",
   "name": "python3"
  },
  "language_info": {
   "codemirror_mode": {
    "name": "ipython",
    "version": 3
   },
   "file_extension": ".py",
   "mimetype": "text/x-python",
   "name": "python",
   "nbconvert_exporter": "python",
   "pygments_lexer": "ipython3",
   "version": "3.13.3"
  }
 },
 "nbformat": 4,
 "nbformat_minor": 5
}
