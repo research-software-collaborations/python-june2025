{
 "cells": [
  {
   "cell_type": "markdown",
   "id": "7a107db2-ffe6-4c3c-9fd2-1e201de91f1c",
   "metadata": {},
   "source": [
    "# Object Oriented Programming\n",
    "\n",
    "While we will not do much Object Oriented Programming (OOP) in this \"Python with Exercises\" training, we give here a brief overview of\n",
    "OOP in Python so you will at least a starting point for understanding if/when you encounter it in other Python programs you run across.\n",
    "\n",
    "**Coming Soon**"
   ]
  },
  {
   "cell_type": "code",
   "execution_count": null,
   "id": "81551d59-5cfa-4e41-87ae-d9a47fabefa7",
   "metadata": {},
   "outputs": [],
   "source": [
    "class Spaceship:\n",
    "    def __init__(self, name, captain, crew):\n",
    "        self.name = name \n",
    "        self.captain = captain\n",
    "        self.crew = crew\n",
    "\n",
    "    def crew(self):\n",
    "        print(f\"Hello, my value is {self.value}\")"
   ]
  },
  {
   "cell_type": "code",
   "execution_count": null,
   "id": "2790a82d-4455-4cb6-92ae-c62dcb90d7d1",
   "metadata": {},
   "outputs": [],
   "source": []
  },
  {
   "cell_type": "code",
   "execution_count": null,
   "id": "7169903b-bbd1-47b4-9b1a-6ccb49967ceb",
   "metadata": {},
   "outputs": [],
   "source": []
  }
 ],
 "metadata": {
  "kernelspec": {
   "display_name": "Python 3 (ipykernel)",
   "language": "python",
   "name": "python3"
  },
  "language_info": {
   "codemirror_mode": {
    "name": "ipython",
    "version": 3
   },
   "file_extension": ".py",
   "mimetype": "text/x-python",
   "name": "python",
   "nbconvert_exporter": "python",
   "pygments_lexer": "ipython3",
   "version": "3.13.3"
  }
 },
 "nbformat": 4,
 "nbformat_minor": 5
}
